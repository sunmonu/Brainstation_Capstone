{
  "cells": [
    {
      "cell_type": "code",
      "execution_count": 3,
      "metadata": {
        "id": "_Bx0jc5jRq51"
      },
      "outputs": [],
      "source": [
        "import numpy as np\n",
        "import matplotlib as plt\n",
        "import pandas as pd\n",
        "import seaborn as sns\n"
      ]
    },
    {
      "cell_type": "markdown",
      "metadata": {
        "id": "kx9SWVCEvmDQ"
      },
      "source": [
        "##Strategic Store Expansion Using Household Debt Insights\n",
        "\n",
        "In this project, we aim to uncover insights into the relationship between household debt to income ratio and the strategic decisions of store openings by Target.  While we don't have access to the performance data of existing stores, we can use economic information to identify regions with high potential for new store success. By analyzing household debt characteristics, we can recommend prime locations for Target's expansion.\n",
        "\n",
        "Our key question is: How can household debt, specifically the household debt-to-income ratio, inform Target's strategic decisions when opening new stores?\n",
        "\n",
        "We will be using two datasets for this project:\n",
        "\n",
        "1.   targets.csv - This dataset includes a record for Target locations currently in operation as of April 2017\n",
        "2.   debt_county.csv - This dataset includes a record of the household debt to income ration since 1999\n",
        "\n",
        "Let's begin the cleaning process for target.csv"
      ]
    },
    {
      "cell_type": "markdown",
      "metadata": {
        "id": "BjGj11DhuF_X"
      },
      "source": [
        "## Data Inspection"
      ]
    },
    {
      "cell_type": "code",
      "execution_count": 4,
      "metadata": {
        "colab": {
          "base_uri": "https://localhost:8080/",
          "height": 429
        },
        "id": "rmXEvFmiVJ5i",
        "outputId": "446b3fdc-d0b1-44c9-e152-afc8cebc9ebb"
      },
      "outputs": [
        {
          "output_type": "execute_result",
          "data": {
            "text/plain": [
              "  X.locale      Address.AddressLine1 Address.AddressLine2 Address.City  \\\n",
              "0    en-US  400 Oxford Exchange Blvd                  NaN       Oxford   \n",
              "1    en-US        2640 Enterprise Dr                  NaN      Opelika   \n",
              "2    en-US            1129 S Park St                  NaN   Carrollton   \n",
              "3    en-US          555 Bullsboro Dr                  NaN       Newnan   \n",
              "4    en-US      1591 Bradley Park Dr                  NaN     Columbus   \n",
              "\n",
              "  Address.CountryName Address.County  \\\n",
              "0       United States        Calhoun   \n",
              "1       United States            Lee   \n",
              "2       United States        Carroll   \n",
              "3       United States         Coweta   \n",
              "4       United States       Muscogee   \n",
              "\n",
              "                          Address.FormattedAddress  \\\n",
              "0  400 Oxford Exchange Blvd, Oxford, AL 36203-3459   \n",
              "1       2640 Enterprise Dr, Opelika, AL 36801-1511   \n",
              "2        1129 S Park St, Carrollton, GA 30117-4429   \n",
              "3          555 Bullsboro Dr, Newnan, GA 30265-1045   \n",
              "4    1591 Bradley Park Dr, Columbus, GA 31904-3071   \n",
              "\n",
              "  Address.IntersectionDescription  Address.Latitude  Address.Longitude  ...  \\\n",
              "0      SEC I-20 & Golden Creek Rd         33.608825         -85.783182  ...   \n",
              "1              NWC I-85 & Hwy 280         32.618108         -85.410636  ...   \n",
              "2      NWC US 27 & Hwy 166 Bypass         33.558920         -85.076473  ...   \n",
              "3               SWC I-85 & Rte 34         33.392907         -84.758875  ...   \n",
              "4  NEC Bradley Pk & JR Allen Pkwy         32.534649         -84.971073  ...   \n",
              "\n",
              "  Is24Hours.Sat IsOpen.Sat           Summary.Sat  ThruTime.Sat  BeginTime.Sun  \\\n",
              "0         False       True  8:00 a.m.-11:00 p.m.      23:00:00        8:00:00   \n",
              "1         False       True  8:00 a.m.-11:00 p.m.      23:00:00        8:00:00   \n",
              "2         False       True  8:00 a.m.-10:00 p.m.      22:00:00        8:00:00   \n",
              "3         False       True  8:00 a.m.-11:00 p.m.      23:00:00        8:00:00   \n",
              "4         False       True  8:00 a.m.-11:00 p.m.      23:00:00        8:00:00   \n",
              "\n",
              "  Is24Hours.Sun IsOpen.Sun           Summary.Sun ThruTime.Sun  \\\n",
              "0         False       True  8:00 a.m.-10:00 p.m.     22:00:00   \n",
              "1         False       True  8:00 a.m.-10:00 p.m.     22:00:00   \n",
              "2         False       True   8:00 a.m.-9:00 p.m.     21:00:00   \n",
              "3         False       True  8:00 a.m.-10:00 p.m.     22:00:00   \n",
              "4         False       True  8:00 a.m.-10:00 p.m.     22:00:00   \n",
              "\n",
              "                                       AllCapability  \n",
              "0  ['CVS pharmacy', 'Café', 'Mobile Kiosk', 'Star...  \n",
              "1  ['CVS pharmacy', 'Cafe-Pizza', 'Fresh Grocery'...  \n",
              "2                                                NaN  \n",
              "3  ['CVS pharmacy', 'Café', 'Fresh Grocery', 'Mob...  \n",
              "4  ['CVS pharmacy', 'Café', 'Mobile Kiosk', 'Phot...  \n",
              "\n",
              "[5 rows x 47 columns]"
            ],
            "text/html": [
              "\n",
              "  <div id=\"df-6628522c-7c84-4a3e-931c-0c1db0f3a326\" class=\"colab-df-container\">\n",
              "    <div>\n",
              "<style scoped>\n",
              "    .dataframe tbody tr th:only-of-type {\n",
              "        vertical-align: middle;\n",
              "    }\n",
              "\n",
              "    .dataframe tbody tr th {\n",
              "        vertical-align: top;\n",
              "    }\n",
              "\n",
              "    .dataframe thead th {\n",
              "        text-align: right;\n",
              "    }\n",
              "</style>\n",
              "<table border=\"1\" class=\"dataframe\">\n",
              "  <thead>\n",
              "    <tr style=\"text-align: right;\">\n",
              "      <th></th>\n",
              "      <th>X.locale</th>\n",
              "      <th>Address.AddressLine1</th>\n",
              "      <th>Address.AddressLine2</th>\n",
              "      <th>Address.City</th>\n",
              "      <th>Address.CountryName</th>\n",
              "      <th>Address.County</th>\n",
              "      <th>Address.FormattedAddress</th>\n",
              "      <th>Address.IntersectionDescription</th>\n",
              "      <th>Address.Latitude</th>\n",
              "      <th>Address.Longitude</th>\n",
              "      <th>...</th>\n",
              "      <th>Is24Hours.Sat</th>\n",
              "      <th>IsOpen.Sat</th>\n",
              "      <th>Summary.Sat</th>\n",
              "      <th>ThruTime.Sat</th>\n",
              "      <th>BeginTime.Sun</th>\n",
              "      <th>Is24Hours.Sun</th>\n",
              "      <th>IsOpen.Sun</th>\n",
              "      <th>Summary.Sun</th>\n",
              "      <th>ThruTime.Sun</th>\n",
              "      <th>AllCapability</th>\n",
              "    </tr>\n",
              "  </thead>\n",
              "  <tbody>\n",
              "    <tr>\n",
              "      <th>0</th>\n",
              "      <td>en-US</td>\n",
              "      <td>400 Oxford Exchange Blvd</td>\n",
              "      <td>NaN</td>\n",
              "      <td>Oxford</td>\n",
              "      <td>United States</td>\n",
              "      <td>Calhoun</td>\n",
              "      <td>400 Oxford Exchange Blvd, Oxford, AL 36203-3459</td>\n",
              "      <td>SEC I-20 &amp; Golden Creek Rd</td>\n",
              "      <td>33.608825</td>\n",
              "      <td>-85.783182</td>\n",
              "      <td>...</td>\n",
              "      <td>False</td>\n",
              "      <td>True</td>\n",
              "      <td>8:00 a.m.-11:00 p.m.</td>\n",
              "      <td>23:00:00</td>\n",
              "      <td>8:00:00</td>\n",
              "      <td>False</td>\n",
              "      <td>True</td>\n",
              "      <td>8:00 a.m.-10:00 p.m.</td>\n",
              "      <td>22:00:00</td>\n",
              "      <td>['CVS pharmacy', 'Café', 'Mobile Kiosk', 'Star...</td>\n",
              "    </tr>\n",
              "    <tr>\n",
              "      <th>1</th>\n",
              "      <td>en-US</td>\n",
              "      <td>2640 Enterprise Dr</td>\n",
              "      <td>NaN</td>\n",
              "      <td>Opelika</td>\n",
              "      <td>United States</td>\n",
              "      <td>Lee</td>\n",
              "      <td>2640 Enterprise Dr, Opelika, AL 36801-1511</td>\n",
              "      <td>NWC I-85 &amp; Hwy 280</td>\n",
              "      <td>32.618108</td>\n",
              "      <td>-85.410636</td>\n",
              "      <td>...</td>\n",
              "      <td>False</td>\n",
              "      <td>True</td>\n",
              "      <td>8:00 a.m.-11:00 p.m.</td>\n",
              "      <td>23:00:00</td>\n",
              "      <td>8:00:00</td>\n",
              "      <td>False</td>\n",
              "      <td>True</td>\n",
              "      <td>8:00 a.m.-10:00 p.m.</td>\n",
              "      <td>22:00:00</td>\n",
              "      <td>['CVS pharmacy', 'Cafe-Pizza', 'Fresh Grocery'...</td>\n",
              "    </tr>\n",
              "    <tr>\n",
              "      <th>2</th>\n",
              "      <td>en-US</td>\n",
              "      <td>1129 S Park St</td>\n",
              "      <td>NaN</td>\n",
              "      <td>Carrollton</td>\n",
              "      <td>United States</td>\n",
              "      <td>Carroll</td>\n",
              "      <td>1129 S Park St, Carrollton, GA 30117-4429</td>\n",
              "      <td>NWC US 27 &amp; Hwy 166 Bypass</td>\n",
              "      <td>33.558920</td>\n",
              "      <td>-85.076473</td>\n",
              "      <td>...</td>\n",
              "      <td>False</td>\n",
              "      <td>True</td>\n",
              "      <td>8:00 a.m.-10:00 p.m.</td>\n",
              "      <td>22:00:00</td>\n",
              "      <td>8:00:00</td>\n",
              "      <td>False</td>\n",
              "      <td>True</td>\n",
              "      <td>8:00 a.m.-9:00 p.m.</td>\n",
              "      <td>21:00:00</td>\n",
              "      <td>NaN</td>\n",
              "    </tr>\n",
              "    <tr>\n",
              "      <th>3</th>\n",
              "      <td>en-US</td>\n",
              "      <td>555 Bullsboro Dr</td>\n",
              "      <td>NaN</td>\n",
              "      <td>Newnan</td>\n",
              "      <td>United States</td>\n",
              "      <td>Coweta</td>\n",
              "      <td>555 Bullsboro Dr, Newnan, GA 30265-1045</td>\n",
              "      <td>SWC I-85 &amp; Rte 34</td>\n",
              "      <td>33.392907</td>\n",
              "      <td>-84.758875</td>\n",
              "      <td>...</td>\n",
              "      <td>False</td>\n",
              "      <td>True</td>\n",
              "      <td>8:00 a.m.-11:00 p.m.</td>\n",
              "      <td>23:00:00</td>\n",
              "      <td>8:00:00</td>\n",
              "      <td>False</td>\n",
              "      <td>True</td>\n",
              "      <td>8:00 a.m.-10:00 p.m.</td>\n",
              "      <td>22:00:00</td>\n",
              "      <td>['CVS pharmacy', 'Café', 'Fresh Grocery', 'Mob...</td>\n",
              "    </tr>\n",
              "    <tr>\n",
              "      <th>4</th>\n",
              "      <td>en-US</td>\n",
              "      <td>1591 Bradley Park Dr</td>\n",
              "      <td>NaN</td>\n",
              "      <td>Columbus</td>\n",
              "      <td>United States</td>\n",
              "      <td>Muscogee</td>\n",
              "      <td>1591 Bradley Park Dr, Columbus, GA 31904-3071</td>\n",
              "      <td>NEC Bradley Pk &amp; JR Allen Pkwy</td>\n",
              "      <td>32.534649</td>\n",
              "      <td>-84.971073</td>\n",
              "      <td>...</td>\n",
              "      <td>False</td>\n",
              "      <td>True</td>\n",
              "      <td>8:00 a.m.-11:00 p.m.</td>\n",
              "      <td>23:00:00</td>\n",
              "      <td>8:00:00</td>\n",
              "      <td>False</td>\n",
              "      <td>True</td>\n",
              "      <td>8:00 a.m.-10:00 p.m.</td>\n",
              "      <td>22:00:00</td>\n",
              "      <td>['CVS pharmacy', 'Café', 'Mobile Kiosk', 'Phot...</td>\n",
              "    </tr>\n",
              "  </tbody>\n",
              "</table>\n",
              "<p>5 rows × 47 columns</p>\n",
              "</div>\n",
              "    <div class=\"colab-df-buttons\">\n",
              "\n",
              "  <div class=\"colab-df-container\">\n",
              "    <button class=\"colab-df-convert\" onclick=\"convertToInteractive('df-6628522c-7c84-4a3e-931c-0c1db0f3a326')\"\n",
              "            title=\"Convert this dataframe to an interactive table.\"\n",
              "            style=\"display:none;\">\n",
              "\n",
              "  <svg xmlns=\"http://www.w3.org/2000/svg\" height=\"24px\" viewBox=\"0 -960 960 960\">\n",
              "    <path d=\"M120-120v-720h720v720H120Zm60-500h600v-160H180v160Zm220 220h160v-160H400v160Zm0 220h160v-160H400v160ZM180-400h160v-160H180v160Zm440 0h160v-160H620v160ZM180-180h160v-160H180v160Zm440 0h160v-160H620v160Z\"/>\n",
              "  </svg>\n",
              "    </button>\n",
              "\n",
              "  <style>\n",
              "    .colab-df-container {\n",
              "      display:flex;\n",
              "      gap: 12px;\n",
              "    }\n",
              "\n",
              "    .colab-df-convert {\n",
              "      background-color: #E8F0FE;\n",
              "      border: none;\n",
              "      border-radius: 50%;\n",
              "      cursor: pointer;\n",
              "      display: none;\n",
              "      fill: #1967D2;\n",
              "      height: 32px;\n",
              "      padding: 0 0 0 0;\n",
              "      width: 32px;\n",
              "    }\n",
              "\n",
              "    .colab-df-convert:hover {\n",
              "      background-color: #E2EBFA;\n",
              "      box-shadow: 0px 1px 2px rgba(60, 64, 67, 0.3), 0px 1px 3px 1px rgba(60, 64, 67, 0.15);\n",
              "      fill: #174EA6;\n",
              "    }\n",
              "\n",
              "    .colab-df-buttons div {\n",
              "      margin-bottom: 4px;\n",
              "    }\n",
              "\n",
              "    [theme=dark] .colab-df-convert {\n",
              "      background-color: #3B4455;\n",
              "      fill: #D2E3FC;\n",
              "    }\n",
              "\n",
              "    [theme=dark] .colab-df-convert:hover {\n",
              "      background-color: #434B5C;\n",
              "      box-shadow: 0px 1px 3px 1px rgba(0, 0, 0, 0.15);\n",
              "      filter: drop-shadow(0px 1px 2px rgba(0, 0, 0, 0.3));\n",
              "      fill: #FFFFFF;\n",
              "    }\n",
              "  </style>\n",
              "\n",
              "    <script>\n",
              "      const buttonEl =\n",
              "        document.querySelector('#df-6628522c-7c84-4a3e-931c-0c1db0f3a326 button.colab-df-convert');\n",
              "      buttonEl.style.display =\n",
              "        google.colab.kernel.accessAllowed ? 'block' : 'none';\n",
              "\n",
              "      async function convertToInteractive(key) {\n",
              "        const element = document.querySelector('#df-6628522c-7c84-4a3e-931c-0c1db0f3a326');\n",
              "        const dataTable =\n",
              "          await google.colab.kernel.invokeFunction('convertToInteractive',\n",
              "                                                    [key], {});\n",
              "        if (!dataTable) return;\n",
              "\n",
              "        const docLinkHtml = 'Like what you see? Visit the ' +\n",
              "          '<a target=\"_blank\" href=https://colab.research.google.com/notebooks/data_table.ipynb>data table notebook</a>'\n",
              "          + ' to learn more about interactive tables.';\n",
              "        element.innerHTML = '';\n",
              "        dataTable['output_type'] = 'display_data';\n",
              "        await google.colab.output.renderOutput(dataTable, element);\n",
              "        const docLink = document.createElement('div');\n",
              "        docLink.innerHTML = docLinkHtml;\n",
              "        element.appendChild(docLink);\n",
              "      }\n",
              "    </script>\n",
              "  </div>\n",
              "\n",
              "\n",
              "<div id=\"df-672cf210-1e03-42f5-86e7-c237b43b6f56\">\n",
              "  <button class=\"colab-df-quickchart\" onclick=\"quickchart('df-672cf210-1e03-42f5-86e7-c237b43b6f56')\"\n",
              "            title=\"Suggest charts.\"\n",
              "            style=\"display:none;\">\n",
              "\n",
              "<svg xmlns=\"http://www.w3.org/2000/svg\" height=\"24px\"viewBox=\"0 0 24 24\"\n",
              "     width=\"24px\">\n",
              "    <g>\n",
              "        <path d=\"M19 3H5c-1.1 0-2 .9-2 2v14c0 1.1.9 2 2 2h14c1.1 0 2-.9 2-2V5c0-1.1-.9-2-2-2zM9 17H7v-7h2v7zm4 0h-2V7h2v10zm4 0h-2v-4h2v4z\"/>\n",
              "    </g>\n",
              "</svg>\n",
              "  </button>\n",
              "\n",
              "<style>\n",
              "  .colab-df-quickchart {\n",
              "      --bg-color: #E8F0FE;\n",
              "      --fill-color: #1967D2;\n",
              "      --hover-bg-color: #E2EBFA;\n",
              "      --hover-fill-color: #174EA6;\n",
              "      --disabled-fill-color: #AAA;\n",
              "      --disabled-bg-color: #DDD;\n",
              "  }\n",
              "\n",
              "  [theme=dark] .colab-df-quickchart {\n",
              "      --bg-color: #3B4455;\n",
              "      --fill-color: #D2E3FC;\n",
              "      --hover-bg-color: #434B5C;\n",
              "      --hover-fill-color: #FFFFFF;\n",
              "      --disabled-bg-color: #3B4455;\n",
              "      --disabled-fill-color: #666;\n",
              "  }\n",
              "\n",
              "  .colab-df-quickchart {\n",
              "    background-color: var(--bg-color);\n",
              "    border: none;\n",
              "    border-radius: 50%;\n",
              "    cursor: pointer;\n",
              "    display: none;\n",
              "    fill: var(--fill-color);\n",
              "    height: 32px;\n",
              "    padding: 0;\n",
              "    width: 32px;\n",
              "  }\n",
              "\n",
              "  .colab-df-quickchart:hover {\n",
              "    background-color: var(--hover-bg-color);\n",
              "    box-shadow: 0 1px 2px rgba(60, 64, 67, 0.3), 0 1px 3px 1px rgba(60, 64, 67, 0.15);\n",
              "    fill: var(--button-hover-fill-color);\n",
              "  }\n",
              "\n",
              "  .colab-df-quickchart-complete:disabled,\n",
              "  .colab-df-quickchart-complete:disabled:hover {\n",
              "    background-color: var(--disabled-bg-color);\n",
              "    fill: var(--disabled-fill-color);\n",
              "    box-shadow: none;\n",
              "  }\n",
              "\n",
              "  .colab-df-spinner {\n",
              "    border: 2px solid var(--fill-color);\n",
              "    border-color: transparent;\n",
              "    border-bottom-color: var(--fill-color);\n",
              "    animation:\n",
              "      spin 1s steps(1) infinite;\n",
              "  }\n",
              "\n",
              "  @keyframes spin {\n",
              "    0% {\n",
              "      border-color: transparent;\n",
              "      border-bottom-color: var(--fill-color);\n",
              "      border-left-color: var(--fill-color);\n",
              "    }\n",
              "    20% {\n",
              "      border-color: transparent;\n",
              "      border-left-color: var(--fill-color);\n",
              "      border-top-color: var(--fill-color);\n",
              "    }\n",
              "    30% {\n",
              "      border-color: transparent;\n",
              "      border-left-color: var(--fill-color);\n",
              "      border-top-color: var(--fill-color);\n",
              "      border-right-color: var(--fill-color);\n",
              "    }\n",
              "    40% {\n",
              "      border-color: transparent;\n",
              "      border-right-color: var(--fill-color);\n",
              "      border-top-color: var(--fill-color);\n",
              "    }\n",
              "    60% {\n",
              "      border-color: transparent;\n",
              "      border-right-color: var(--fill-color);\n",
              "    }\n",
              "    80% {\n",
              "      border-color: transparent;\n",
              "      border-right-color: var(--fill-color);\n",
              "      border-bottom-color: var(--fill-color);\n",
              "    }\n",
              "    90% {\n",
              "      border-color: transparent;\n",
              "      border-bottom-color: var(--fill-color);\n",
              "    }\n",
              "  }\n",
              "</style>\n",
              "\n",
              "  <script>\n",
              "    async function quickchart(key) {\n",
              "      const quickchartButtonEl =\n",
              "        document.querySelector('#' + key + ' button');\n",
              "      quickchartButtonEl.disabled = true;  // To prevent multiple clicks.\n",
              "      quickchartButtonEl.classList.add('colab-df-spinner');\n",
              "      try {\n",
              "        const charts = await google.colab.kernel.invokeFunction(\n",
              "            'suggestCharts', [key], {});\n",
              "      } catch (error) {\n",
              "        console.error('Error during call to suggestCharts:', error);\n",
              "      }\n",
              "      quickchartButtonEl.classList.remove('colab-df-spinner');\n",
              "      quickchartButtonEl.classList.add('colab-df-quickchart-complete');\n",
              "    }\n",
              "    (() => {\n",
              "      let quickchartButtonEl =\n",
              "        document.querySelector('#df-672cf210-1e03-42f5-86e7-c237b43b6f56 button');\n",
              "      quickchartButtonEl.style.display =\n",
              "        google.colab.kernel.accessAllowed ? 'block' : 'none';\n",
              "    })();\n",
              "  </script>\n",
              "</div>\n",
              "    </div>\n",
              "  </div>\n"
            ]
          },
          "metadata": {},
          "execution_count": 4
        }
      ],
      "source": [
        "raw_target_data = pd.read_csv('target.csv', encoding='latin1')\n",
        "raw_target_data.head()"
      ]
    },
    {
      "cell_type": "markdown",
      "metadata": {
        "id": "ROseJiSMzyfc"
      },
      "source": [
        "Here we can see the first 5 rows in our dataset and understand the formats of each column. In this dataset, there are 47 features that we need to examine to determine their relevance to our analysis."
      ]
    },
    {
      "cell_type": "code",
      "execution_count": 5,
      "metadata": {
        "colab": {
          "base_uri": "https://localhost:8080/"
        },
        "id": "Y6geZ2UEtWIf",
        "outputId": "b3a6b87e-d7db-4d7b-d564-43a7b75f9bd1"
      },
      "outputs": [
        {
          "output_type": "execute_result",
          "data": {
            "text/plain": [
              "(1829, 47)"
            ]
          },
          "metadata": {},
          "execution_count": 5
        }
      ],
      "source": [
        "raw_target_data.shape"
      ]
    },
    {
      "cell_type": "markdown",
      "metadata": {
        "id": "JFo8NNLI0Eae"
      },
      "source": [
        "Here we see that there are 1829 rows/stores. Let's check for duplicate values to ensure every row is unique."
      ]
    },
    {
      "cell_type": "code",
      "execution_count": 6,
      "metadata": {
        "colab": {
          "base_uri": "https://localhost:8080/"
        },
        "id": "zPNr4UQK0M1w",
        "outputId": "65030ac8-ad13-4738-ce46-0843170ce3f5"
      },
      "outputs": [
        {
          "output_type": "execute_result",
          "data": {
            "text/plain": [
              "0"
            ]
          },
          "metadata": {},
          "execution_count": 6
        }
      ],
      "source": [
        "raw_target_data.duplicated().sum()"
      ]
    },
    {
      "cell_type": "markdown",
      "metadata": {
        "id": "BKvrTRNp0ayv"
      },
      "source": [
        "We see that there are no duplicated, but to be sure let's ensure there are the same number of unique values as there are rows. This ensures there are no duplicate stores even if the row is not completely the same\n"
      ]
    },
    {
      "cell_type": "code",
      "execution_count": 7,
      "metadata": {
        "colab": {
          "base_uri": "https://localhost:8080/"
        },
        "id": "lWQXslzH00HU",
        "outputId": "75cf6bb3-2441-4cce-85ab-dd9a01dff747"
      },
      "outputs": [
        {
          "output_type": "execute_result",
          "data": {
            "text/plain": [
              "0"
            ]
          },
          "metadata": {},
          "execution_count": 7
        }
      ],
      "source": [
        "raw_target_data.duplicated(subset=['Address.AddressLine1']).sum()"
      ]
    },
    {
      "cell_type": "markdown",
      "metadata": {
        "id": "MyWEfuoF1ZbS"
      },
      "source": [
        "Here we see again that there are no duplicates in terms of addresses.\n",
        "\n",
        "Let's now assess which columns are impactful to our analysis of answering our key question: How can household debt data, specifically the household debt-to-income ratio, inform Target's strategic decisions when opening new stores?\n",
        "\n",
        "First let's take a look at all of the columns."
      ]
    },
    {
      "cell_type": "code",
      "execution_count": 8,
      "metadata": {
        "colab": {
          "base_uri": "https://localhost:8080/"
        },
        "id": "GRsThO3s2x-E",
        "outputId": "9cf93595-6478-4344-83a5-98af5f4064f2"
      },
      "outputs": [
        {
          "output_type": "execute_result",
          "data": {
            "text/plain": [
              "Index(['X.locale', 'Address.AddressLine1', 'Address.AddressLine2',\n",
              "       'Address.City', 'Address.CountryName', 'Address.County',\n",
              "       'Address.FormattedAddress', 'Address.IntersectionDescription',\n",
              "       'Address.Latitude', 'Address.Longitude', 'Address.PostalCode',\n",
              "       'Address.Subdivision', 'AlternateIdentifier.ID', 'ID',\n",
              "       'IsDaylightSavingsTimeRecognized', 'LocationMilestones.LastRemodelDate',\n",
              "       'LocationMilestones.OpenDate', 'Market', 'Name',\n",
              "       'OperatingHours..timeFormat', 'Store.StoreDistrictID',\n",
              "       'Store.StoreGroupID', 'Store.StoreRegionID', 'SubTypeDescription',\n",
              "       'TimeZone.TimeZoneCode', 'TimeZone.TimeZoneDescription',\n",
              "       'TimeZone.TimeZoneOffset.OffsetCode',\n",
              "       'TimeZone.TimeZoneOffset.OffsetHours', 'TypeCode', 'PhoneNumber',\n",
              "       'FaxNumber', 'BeginTime.MF', 'Is24Hours.MF', 'IsOpen.MF', 'Summary.MF',\n",
              "       'ThruTime.MF', 'BeginTime.Sat', 'Is24Hours.Sat', 'IsOpen.Sat',\n",
              "       'Summary.Sat', 'ThruTime.Sat', 'BeginTime.Sun', 'Is24Hours.Sun',\n",
              "       'IsOpen.Sun', 'Summary.Sun', 'ThruTime.Sun', 'AllCapability'],\n",
              "      dtype='object')"
            ]
          },
          "metadata": {},
          "execution_count": 8
        }
      ],
      "source": [
        "raw_target_data.columns"
      ]
    },
    {
      "cell_type": "markdown",
      "metadata": {
        "id": "6GqvFA1e21ZH"
      },
      "source": [
        "We see here many fields having to do with store open times. I will keep these variables in mind however at this time they are not relevant to our analysis so they will be dropped. I will explore remaining data later on in the notebook.\n",
        "\n",
        "Irrelevant time fields will now be dropped."
      ]
    },
    {
      "cell_type": "code",
      "execution_count": 9,
      "metadata": {
        "colab": {
          "base_uri": "https://localhost:8080/"
        },
        "id": "70mT_oH23unc",
        "outputId": "ebdb9ce0-6e10-486f-e6ae-d8cb19a9bb3f"
      },
      "outputs": [
        {
          "output_type": "execute_result",
          "data": {
            "text/plain": [
              "Index(['X.locale', 'Address.AddressLine1', 'Address.AddressLine2',\n",
              "       'Address.City', 'Address.CountryName', 'Address.County',\n",
              "       'Address.FormattedAddress', 'Address.IntersectionDescription',\n",
              "       'Address.Latitude', 'Address.Longitude', 'Address.PostalCode',\n",
              "       'Address.Subdivision', 'AlternateIdentifier.ID', 'ID',\n",
              "       'IsDaylightSavingsTimeRecognized', 'LocationMilestones.LastRemodelDate',\n",
              "       'LocationMilestones.OpenDate', 'Market', 'Name',\n",
              "       'Store.StoreDistrictID', 'Store.StoreGroupID', 'Store.StoreRegionID',\n",
              "       'SubTypeDescription', 'TypeCode', 'PhoneNumber', 'FaxNumber',\n",
              "       'AllCapability'],\n",
              "      dtype='object')"
            ]
          },
          "metadata": {},
          "execution_count": 9
        }
      ],
      "source": [
        "# List of columns to drop\n",
        "columns_to_drop = [\n",
        "    'BeginTime.MF', 'Is24Hours.MF', 'IsOpen.MF', 'Summary.MF',\n",
        "    'ThruTime.MF', 'BeginTime.Sat', 'Is24Hours.Sat', 'IsOpen.Sat',\n",
        "    'Summary.Sat', 'ThruTime.Sat', 'BeginTime.Sun', 'Is24Hours.Sun',\n",
        "    'IsOpen.Sun', 'Summary.Sun', 'ThruTime.Sun',\n",
        "    'TimeZone.TimeZoneCode', 'TimeZone.TimeZoneDescription',\n",
        "    'TimeZone.TimeZoneOffset.OffsetCode', 'OperatingHours..timeFormat',\n",
        "    'TimeZone.TimeZoneOffset.OffsetHours'\n",
        "]\n",
        "\n",
        "# Drop the columns\n",
        "raw_target_data_drop = raw_target_data.drop(columns=columns_to_drop)\n",
        "\n",
        "#check for relevant columns\n",
        "raw_target_data_drop.columns"
      ]
    },
    {
      "cell_type": "markdown",
      "metadata": {
        "id": "4RtjS6MY80yq"
      },
      "source": [
        "Now that we've removed all irrelevant store operating hours columns we can begin to explore if the remaining columns are relevant and how relevant they are to our analysis. Off the bat features such as phone number, fax number, 'is day light savings recognized\" are irrelevant so we will drop those."
      ]
    },
    {
      "cell_type": "code",
      "execution_count": 10,
      "metadata": {
        "id": "3ZzlIV5s9Tyb"
      },
      "outputs": [],
      "source": [
        "# List of columns to drop\n",
        "columns_to_drop2 = ['PhoneNumber', 'FaxNumber', 'IsDaylightSavingsTimeRecognized',\n",
        "                    'Address.IntersectionDescription','Address.CountryName',\n",
        "                    'Address.FormattedAddress','AlternateIdentifier.ID','ID']\n",
        "\n",
        "# Drop the columns\n",
        "raw_target_data_drop.drop(columns=columns_to_drop2, inplace=True)"
      ]
    },
    {
      "cell_type": "code",
      "execution_count": 11,
      "metadata": {
        "colab": {
          "base_uri": "https://localhost:8080/"
        },
        "id": "4kkWpuAp-Khn",
        "outputId": "a2a76ec8-2d3d-4f50-945e-a35d4b2abf22"
      },
      "outputs": [
        {
          "output_type": "execute_result",
          "data": {
            "text/plain": [
              "Index(['X.locale', 'Address.AddressLine1', 'Address.AddressLine2',\n",
              "       'Address.City', 'Address.County', 'Address.Latitude',\n",
              "       'Address.Longitude', 'Address.PostalCode', 'Address.Subdivision',\n",
              "       'LocationMilestones.LastRemodelDate', 'LocationMilestones.OpenDate',\n",
              "       'Market', 'Name', 'Store.StoreDistrictID', 'Store.StoreGroupID',\n",
              "       'Store.StoreRegionID', 'SubTypeDescription', 'TypeCode',\n",
              "       'AllCapability'],\n",
              "      dtype='object')"
            ]
          },
          "metadata": {},
          "execution_count": 11
        }
      ],
      "source": [
        "\n",
        "\n",
        "#Check Columns\n",
        "raw_target_data_drop.columns\n"
      ]
    },
    {
      "cell_type": "markdown",
      "metadata": {
        "id": "xNryX4ux-cLi"
      },
      "source": [
        "Now we have 24 columns left. We will now explore each column to understand if it's relevant to our analysis and how relevant it is to answering our question: How can household debt data, specifically the household debt-to-income ratio, inform Target's strategic decisions when opening new stores?"
      ]
    },
    {
      "cell_type": "markdown",
      "metadata": {
        "id": "Xz3Gq6YGhk2c"
      },
      "source": [
        "## Column Cleaning"
      ]
    },
    {
      "cell_type": "markdown",
      "metadata": {
        "id": "L_Li-dSAhrAE"
      },
      "source": [
        "Let's analyze the number of null values in our datset"
      ]
    },
    {
      "cell_type": "code",
      "execution_count": 12,
      "metadata": {
        "colab": {
          "base_uri": "https://localhost:8080/"
        },
        "id": "jQftlXD1hhfh",
        "outputId": "5ae3f797-fde9-4bc9-8029-e624083e26d7"
      },
      "outputs": [
        {
          "output_type": "execute_result",
          "data": {
            "text/plain": [
              "X.locale                                 0\n",
              "Address.AddressLine1                     0\n",
              "Address.AddressLine2                  1771\n",
              "Address.City                             0\n",
              "Address.County                           1\n",
              "Address.Latitude                         0\n",
              "Address.Longitude                        0\n",
              "Address.PostalCode                       0\n",
              "Address.Subdivision                      0\n",
              "LocationMilestones.LastRemodelDate     395\n",
              "LocationMilestones.OpenDate              0\n",
              "Market                                  91\n",
              "Name                                     0\n",
              "Store.StoreDistrictID                    0\n",
              "Store.StoreGroupID                       0\n",
              "Store.StoreRegionID                      0\n",
              "SubTypeDescription                    1522\n",
              "TypeCode                                 0\n",
              "AllCapability                           12\n",
              "dtype: int64"
            ]
          },
          "metadata": {},
          "execution_count": 12
        }
      ],
      "source": [
        "raw_target_data_drop.isnull().sum()"
      ]
    },
    {
      "cell_type": "code",
      "execution_count": 13,
      "metadata": {
        "colab": {
          "base_uri": "https://localhost:8080/"
        },
        "id": "9oOUptzeHW0S",
        "outputId": "65500e3c-5b61-4a05-be44-0ff02908db27"
      },
      "outputs": [
        {
          "output_type": "execute_result",
          "data": {
            "text/plain": [
              "0                 Oxford\n",
              "1                Opelika\n",
              "2             Carrollton\n",
              "3                 Newnan\n",
              "4               Columbus\n",
              "              ...       \n",
              "1824           Stone Oak\n",
              "1825       New Braunfels\n",
              "1826          San Marcos\n",
              "1827                Kyle\n",
              "1828    Austin Southpark\n",
              "Name: Name, Length: 1829, dtype: object"
            ]
          },
          "metadata": {},
          "execution_count": 13
        }
      ],
      "source": [
        "raw_target_data['Name']"
      ]
    },
    {
      "cell_type": "markdown",
      "metadata": {
        "id": "1nThZCYfkhsl"
      },
      "source": [
        "We've identified null values in several columns, including 'Address.AddressLine2' (1771 nulls), 'SubTypeDescription' (1522 nulls), 'LocationMilestones.LastRemodelDate' (395 nulls), 'Capabilities' (12 nulls), and 'Market' (91 nulls). These nulls may reflect non-remodeled locations or a lack of additional capabilities. Further analysis is needed to determine the most appropriate handling of these null values.\n",
        "\n",
        "Let's start with Address Line 2"
      ]
    },
    {
      "cell_type": "code",
      "execution_count": 14,
      "metadata": {
        "colab": {
          "base_uri": "https://localhost:8080/"
        },
        "id": "6YUX4noastgr",
        "outputId": "242d2420-e430-4020-9c3b-4a5ff53e28bf"
      },
      "outputs": [
        {
          "output_type": "execute_result",
          "data": {
            "text/plain": [
              "array([nan, 'Ste 4000', 'Ste B', 'Ste 400', 'Ste 7', 'Ste 300', 'Ste 600',\n",
              "       'Ste A', 'Ste 80', 'Ste 200', 'Ste 100', 'Ste 90', 'Ste F',\n",
              "       'Ste 2400', 'Ste H', 'Ste 120', 'Ste 1', 'Ste 700', 'Ste 2250',\n",
              "       'Ste Target', '#50', 'Ste F600', 'Suite 201', 'Ste 140', 'Ste 5',\n",
              "       'Ste 121', 'Ste 110', 'Ste 1S', 'Ste 1900', 'Ste 49', 'STE 1',\n",
              "       'Ste 201', 'Ste 500', 'Ste 101', 'Ste 102', 'Ste 2', 'Ste 42',\n",
              "       'Bldg A100', 'Ste 1A', 'PO Box 5124', 'Ste. 100', 'Ste 125',\n",
              "       'Ste G'], dtype=object)"
            ]
          },
          "metadata": {},
          "execution_count": 14
        }
      ],
      "source": [
        "#explore address.line2\n",
        "raw_target_data_drop['Address.AddressLine2'].unique()"
      ]
    },
    {
      "cell_type": "markdown",
      "metadata": {
        "id": "yRkGAWag2sLv"
      },
      "source": [
        "Here we see the Adress Line 2 data. It's mostly unit numbers which are not very relevant to our analysis since we have the main address in another field. We can drop this column from the data."
      ]
    },
    {
      "cell_type": "code",
      "execution_count": 15,
      "metadata": {
        "colab": {
          "base_uri": "https://localhost:8080/"
        },
        "id": "6kQNMX-a3b-G",
        "outputId": "098d9a57-522a-41bf-eeca-aa2edb5fc464"
      },
      "outputs": [
        {
          "output_type": "execute_result",
          "data": {
            "text/plain": [
              "Index(['X.locale', 'Address.AddressLine1', 'Address.City', 'Address.County',\n",
              "       'Address.Latitude', 'Address.Longitude', 'Address.PostalCode',\n",
              "       'Address.Subdivision', 'LocationMilestones.LastRemodelDate',\n",
              "       'LocationMilestones.OpenDate', 'Market', 'Name',\n",
              "       'Store.StoreDistrictID', 'Store.StoreGroupID', 'Store.StoreRegionID',\n",
              "       'SubTypeDescription', 'TypeCode', 'AllCapability'],\n",
              "      dtype='object')"
            ]
          },
          "metadata": {},
          "execution_count": 15
        }
      ],
      "source": [
        "#drop AddressLine2\n",
        "raw_target_data_drop1 = raw_target_data_drop.drop('Address.AddressLine2', axis=1)\n",
        "\n",
        "#check drop\n",
        "raw_target_data_drop1.columns"
      ]
    },
    {
      "cell_type": "markdown",
      "metadata": {
        "id": "lD5TlnuXZuGZ"
      },
      "source": [
        "Now we can explore the subtype description field"
      ]
    },
    {
      "cell_type": "code",
      "execution_count": 16,
      "metadata": {
        "colab": {
          "base_uri": "https://localhost:8080/"
        },
        "id": "9hXfvrGqngTQ",
        "outputId": "73647c5c-8c67-4e4a-a8b3-e4faa96d524e"
      },
      "outputs": [
        {
          "output_type": "execute_result",
          "data": {
            "text/plain": [
              "array([nan, 'SuperTarget', 'TargetExpress', 'City'], dtype=object)"
            ]
          },
          "metadata": {},
          "execution_count": 16
        }
      ],
      "source": [
        "#explore subtype description\n",
        "\n",
        "raw_target_data_drop1['SubTypeDescription'].unique()"
      ]
    },
    {
      "cell_type": "markdown",
      "metadata": {
        "id": "hlMGvf6aqFIY"
      },
      "source": [
        "This columns' information might actually be interesting to analyze, it describes the type of Target that has been opened - 'SuperTarget', 'TargetExpress', or'City'. I can deal with the Nan values by webscraping or can assume that they are regular targets. For now I will assume that they are regular targets and map all nan values to 'Regular'"
      ]
    },
    {
      "cell_type": "code",
      "execution_count": 17,
      "metadata": {
        "id": "RaFHFrJ9ZuGa"
      },
      "outputs": [],
      "source": [
        "#replace all null values with 'Regular'\n",
        "raw_target_data_drop1['SubTypeDescription'].fillna('Regular',inplace = True)\n"
      ]
    },
    {
      "cell_type": "code",
      "execution_count": 18,
      "metadata": {
        "colab": {
          "base_uri": "https://localhost:8080/"
        },
        "id": "TKQst9bdZuGa",
        "outputId": "12375ff7-d0c6-4352-a961-e0e2f15baa8e"
      },
      "outputs": [
        {
          "output_type": "execute_result",
          "data": {
            "text/plain": [
              "0"
            ]
          },
          "metadata": {},
          "execution_count": 18
        }
      ],
      "source": [
        "#check for no null values\n",
        "raw_target_data_drop1['SubTypeDescription'].isnull().sum()"
      ]
    },
    {
      "cell_type": "code",
      "execution_count": 19,
      "metadata": {
        "colab": {
          "base_uri": "https://localhost:8080/"
        },
        "id": "TPYjE4HRBnFX",
        "outputId": "6d5cddaf-8248-43eb-ba0c-4e733d09abd0"
      },
      "outputs": [
        {
          "output_type": "execute_result",
          "data": {
            "text/plain": [
              "array(['Regular', 'SuperTarget', 'TargetExpress', 'City'], dtype=object)"
            ]
          },
          "metadata": {},
          "execution_count": 19
        }
      ],
      "source": [
        "#check for unique values\n",
        "raw_target_data_drop1['SubTypeDescription'].unique()"
      ]
    },
    {
      "cell_type": "markdown",
      "metadata": {
        "id": "OoyC-d1sBdNV"
      },
      "source": [
        "We now see that there are no nulls in the SubTypeDescription column and all NaN have been replaced with 'Regular'"
      ]
    },
    {
      "cell_type": "markdown",
      "metadata": {
        "id": "R0iax6Nfa06s"
      },
      "source": [
        "Now it's time to explore the X.locale column"
      ]
    },
    {
      "cell_type": "code",
      "execution_count": 20,
      "metadata": {
        "colab": {
          "base_uri": "https://localhost:8080/"
        },
        "id": "_0uVvXRP5dFY",
        "outputId": "e35ce165-9d8c-40bc-a69a-5bbe21c0835e"
      },
      "outputs": [
        {
          "output_type": "execute_result",
          "data": {
            "text/plain": [
              "array(['en-US'], dtype=object)"
            ]
          },
          "metadata": {},
          "execution_count": 20
        }
      ],
      "source": [
        "#explore X.Locale\n",
        "raw_target_data_drop1['X.locale'].unique()"
      ]
    },
    {
      "cell_type": "markdown",
      "metadata": {
        "id": "oG7My9ji5nhF"
      },
      "source": [
        "This column only contains 'en-US' meaning all locations are the same we can drop this column as it is redundant."
      ]
    },
    {
      "cell_type": "code",
      "execution_count": 21,
      "metadata": {
        "colab": {
          "base_uri": "https://localhost:8080/"
        },
        "id": "vNRbzKY05wGX",
        "outputId": "f621e037-5f76-418b-be80-ecfb6d804303"
      },
      "outputs": [
        {
          "output_type": "execute_result",
          "data": {
            "text/plain": [
              "Index(['Address.AddressLine1', 'Address.City', 'Address.County',\n",
              "       'Address.Latitude', 'Address.Longitude', 'Address.PostalCode',\n",
              "       'Address.Subdivision', 'LocationMilestones.LastRemodelDate',\n",
              "       'LocationMilestones.OpenDate', 'Market', 'Name',\n",
              "       'Store.StoreDistrictID', 'Store.StoreGroupID', 'Store.StoreRegionID',\n",
              "       'SubTypeDescription', 'TypeCode', 'AllCapability'],\n",
              "      dtype='object')"
            ]
          },
          "metadata": {},
          "execution_count": 21
        }
      ],
      "source": [
        "#drop x.locale\n",
        "raw_target_data_drop2 = raw_target_data_drop1.drop('X.locale', axis=1)\n",
        "\n",
        "#check drop\n",
        "raw_target_data_drop2.columns"
      ]
    },
    {
      "cell_type": "markdown",
      "metadata": {
        "id": "vwxZIM46ZuGb"
      },
      "source": [
        "Now let's clean the LastRemodeled field. This field is important for analysis because I'd like to see if remodeling occurred because it can be a sign of Target re-investing which could indicate a successful store since we don't have sales/performance data."
      ]
    },
    {
      "cell_type": "code",
      "execution_count": 22,
      "metadata": {
        "colab": {
          "base_uri": "https://localhost:8080/"
        },
        "id": "ofTGMCAo9E41",
        "outputId": "43320005-4339-4279-ef53-1b790f658125"
      },
      "outputs": [
        {
          "output_type": "execute_result",
          "data": {
            "text/plain": [
              "395"
            ]
          },
          "metadata": {},
          "execution_count": 22
        }
      ],
      "source": [
        "#explore last remodeled field\n",
        "raw_target_data_drop2['LocationMilestones.LastRemodelDate'].isna().sum()"
      ]
    },
    {
      "cell_type": "markdown",
      "metadata": {
        "id": "RYTQ7v-HC_zA"
      },
      "source": [
        "We see that there are 395 nulls to handle. Because this field's nulls could mean that the Target wasnt remodeled we will create a new field with a binary indicator. Set it to 1 if 'LocationMilestones.LastRemodelDate' is not null and 0 otherwise."
      ]
    },
    {
      "cell_type": "code",
      "execution_count": 23,
      "metadata": {
        "colab": {
          "base_uri": "https://localhost:8080/",
          "height": 424
        },
        "id": "0MZDlevcELpP",
        "outputId": "b19357a8-224d-4614-ab0e-d0c45b8d49d9"
      },
      "outputs": [
        {
          "output_type": "execute_result",
          "data": {
            "text/plain": [
              "     LocationMilestones.LastRemodelDate  Remodeled\n",
              "0                                   NaN          0\n",
              "1                                   NaN          0\n",
              "2                                   NaN          0\n",
              "3                   2013-06-27T12:00:00          1\n",
              "4                   2004-10-17T12:00:00          1\n",
              "...                                 ...        ...\n",
              "1824                                NaN          0\n",
              "1825                2013-06-27T12:00:00          1\n",
              "1826                2009-03-04T12:00:00          1\n",
              "1827                                NaN          0\n",
              "1828                2007-10-10T12:00:00          1\n",
              "\n",
              "[1829 rows x 2 columns]"
            ],
            "text/html": [
              "\n",
              "  <div id=\"df-576e2fc2-4ffb-4ba8-b120-aeec3cd3fe33\" class=\"colab-df-container\">\n",
              "    <div>\n",
              "<style scoped>\n",
              "    .dataframe tbody tr th:only-of-type {\n",
              "        vertical-align: middle;\n",
              "    }\n",
              "\n",
              "    .dataframe tbody tr th {\n",
              "        vertical-align: top;\n",
              "    }\n",
              "\n",
              "    .dataframe thead th {\n",
              "        text-align: right;\n",
              "    }\n",
              "</style>\n",
              "<table border=\"1\" class=\"dataframe\">\n",
              "  <thead>\n",
              "    <tr style=\"text-align: right;\">\n",
              "      <th></th>\n",
              "      <th>LocationMilestones.LastRemodelDate</th>\n",
              "      <th>Remodeled</th>\n",
              "    </tr>\n",
              "  </thead>\n",
              "  <tbody>\n",
              "    <tr>\n",
              "      <th>0</th>\n",
              "      <td>NaN</td>\n",
              "      <td>0</td>\n",
              "    </tr>\n",
              "    <tr>\n",
              "      <th>1</th>\n",
              "      <td>NaN</td>\n",
              "      <td>0</td>\n",
              "    </tr>\n",
              "    <tr>\n",
              "      <th>2</th>\n",
              "      <td>NaN</td>\n",
              "      <td>0</td>\n",
              "    </tr>\n",
              "    <tr>\n",
              "      <th>3</th>\n",
              "      <td>2013-06-27T12:00:00</td>\n",
              "      <td>1</td>\n",
              "    </tr>\n",
              "    <tr>\n",
              "      <th>4</th>\n",
              "      <td>2004-10-17T12:00:00</td>\n",
              "      <td>1</td>\n",
              "    </tr>\n",
              "    <tr>\n",
              "      <th>...</th>\n",
              "      <td>...</td>\n",
              "      <td>...</td>\n",
              "    </tr>\n",
              "    <tr>\n",
              "      <th>1824</th>\n",
              "      <td>NaN</td>\n",
              "      <td>0</td>\n",
              "    </tr>\n",
              "    <tr>\n",
              "      <th>1825</th>\n",
              "      <td>2013-06-27T12:00:00</td>\n",
              "      <td>1</td>\n",
              "    </tr>\n",
              "    <tr>\n",
              "      <th>1826</th>\n",
              "      <td>2009-03-04T12:00:00</td>\n",
              "      <td>1</td>\n",
              "    </tr>\n",
              "    <tr>\n",
              "      <th>1827</th>\n",
              "      <td>NaN</td>\n",
              "      <td>0</td>\n",
              "    </tr>\n",
              "    <tr>\n",
              "      <th>1828</th>\n",
              "      <td>2007-10-10T12:00:00</td>\n",
              "      <td>1</td>\n",
              "    </tr>\n",
              "  </tbody>\n",
              "</table>\n",
              "<p>1829 rows × 2 columns</p>\n",
              "</div>\n",
              "    <div class=\"colab-df-buttons\">\n",
              "\n",
              "  <div class=\"colab-df-container\">\n",
              "    <button class=\"colab-df-convert\" onclick=\"convertToInteractive('df-576e2fc2-4ffb-4ba8-b120-aeec3cd3fe33')\"\n",
              "            title=\"Convert this dataframe to an interactive table.\"\n",
              "            style=\"display:none;\">\n",
              "\n",
              "  <svg xmlns=\"http://www.w3.org/2000/svg\" height=\"24px\" viewBox=\"0 -960 960 960\">\n",
              "    <path d=\"M120-120v-720h720v720H120Zm60-500h600v-160H180v160Zm220 220h160v-160H400v160Zm0 220h160v-160H400v160ZM180-400h160v-160H180v160Zm440 0h160v-160H620v160ZM180-180h160v-160H180v160Zm440 0h160v-160H620v160Z\"/>\n",
              "  </svg>\n",
              "    </button>\n",
              "\n",
              "  <style>\n",
              "    .colab-df-container {\n",
              "      display:flex;\n",
              "      gap: 12px;\n",
              "    }\n",
              "\n",
              "    .colab-df-convert {\n",
              "      background-color: #E8F0FE;\n",
              "      border: none;\n",
              "      border-radius: 50%;\n",
              "      cursor: pointer;\n",
              "      display: none;\n",
              "      fill: #1967D2;\n",
              "      height: 32px;\n",
              "      padding: 0 0 0 0;\n",
              "      width: 32px;\n",
              "    }\n",
              "\n",
              "    .colab-df-convert:hover {\n",
              "      background-color: #E2EBFA;\n",
              "      box-shadow: 0px 1px 2px rgba(60, 64, 67, 0.3), 0px 1px 3px 1px rgba(60, 64, 67, 0.15);\n",
              "      fill: #174EA6;\n",
              "    }\n",
              "\n",
              "    .colab-df-buttons div {\n",
              "      margin-bottom: 4px;\n",
              "    }\n",
              "\n",
              "    [theme=dark] .colab-df-convert {\n",
              "      background-color: #3B4455;\n",
              "      fill: #D2E3FC;\n",
              "    }\n",
              "\n",
              "    [theme=dark] .colab-df-convert:hover {\n",
              "      background-color: #434B5C;\n",
              "      box-shadow: 0px 1px 3px 1px rgba(0, 0, 0, 0.15);\n",
              "      filter: drop-shadow(0px 1px 2px rgba(0, 0, 0, 0.3));\n",
              "      fill: #FFFFFF;\n",
              "    }\n",
              "  </style>\n",
              "\n",
              "    <script>\n",
              "      const buttonEl =\n",
              "        document.querySelector('#df-576e2fc2-4ffb-4ba8-b120-aeec3cd3fe33 button.colab-df-convert');\n",
              "      buttonEl.style.display =\n",
              "        google.colab.kernel.accessAllowed ? 'block' : 'none';\n",
              "\n",
              "      async function convertToInteractive(key) {\n",
              "        const element = document.querySelector('#df-576e2fc2-4ffb-4ba8-b120-aeec3cd3fe33');\n",
              "        const dataTable =\n",
              "          await google.colab.kernel.invokeFunction('convertToInteractive',\n",
              "                                                    [key], {});\n",
              "        if (!dataTable) return;\n",
              "\n",
              "        const docLinkHtml = 'Like what you see? Visit the ' +\n",
              "          '<a target=\"_blank\" href=https://colab.research.google.com/notebooks/data_table.ipynb>data table notebook</a>'\n",
              "          + ' to learn more about interactive tables.';\n",
              "        element.innerHTML = '';\n",
              "        dataTable['output_type'] = 'display_data';\n",
              "        await google.colab.output.renderOutput(dataTable, element);\n",
              "        const docLink = document.createElement('div');\n",
              "        docLink.innerHTML = docLinkHtml;\n",
              "        element.appendChild(docLink);\n",
              "      }\n",
              "    </script>\n",
              "  </div>\n",
              "\n",
              "\n",
              "<div id=\"df-1d7b9d2f-6043-4472-9818-4076dbb1e60e\">\n",
              "  <button class=\"colab-df-quickchart\" onclick=\"quickchart('df-1d7b9d2f-6043-4472-9818-4076dbb1e60e')\"\n",
              "            title=\"Suggest charts.\"\n",
              "            style=\"display:none;\">\n",
              "\n",
              "<svg xmlns=\"http://www.w3.org/2000/svg\" height=\"24px\"viewBox=\"0 0 24 24\"\n",
              "     width=\"24px\">\n",
              "    <g>\n",
              "        <path d=\"M19 3H5c-1.1 0-2 .9-2 2v14c0 1.1.9 2 2 2h14c1.1 0 2-.9 2-2V5c0-1.1-.9-2-2-2zM9 17H7v-7h2v7zm4 0h-2V7h2v10zm4 0h-2v-4h2v4z\"/>\n",
              "    </g>\n",
              "</svg>\n",
              "  </button>\n",
              "\n",
              "<style>\n",
              "  .colab-df-quickchart {\n",
              "      --bg-color: #E8F0FE;\n",
              "      --fill-color: #1967D2;\n",
              "      --hover-bg-color: #E2EBFA;\n",
              "      --hover-fill-color: #174EA6;\n",
              "      --disabled-fill-color: #AAA;\n",
              "      --disabled-bg-color: #DDD;\n",
              "  }\n",
              "\n",
              "  [theme=dark] .colab-df-quickchart {\n",
              "      --bg-color: #3B4455;\n",
              "      --fill-color: #D2E3FC;\n",
              "      --hover-bg-color: #434B5C;\n",
              "      --hover-fill-color: #FFFFFF;\n",
              "      --disabled-bg-color: #3B4455;\n",
              "      --disabled-fill-color: #666;\n",
              "  }\n",
              "\n",
              "  .colab-df-quickchart {\n",
              "    background-color: var(--bg-color);\n",
              "    border: none;\n",
              "    border-radius: 50%;\n",
              "    cursor: pointer;\n",
              "    display: none;\n",
              "    fill: var(--fill-color);\n",
              "    height: 32px;\n",
              "    padding: 0;\n",
              "    width: 32px;\n",
              "  }\n",
              "\n",
              "  .colab-df-quickchart:hover {\n",
              "    background-color: var(--hover-bg-color);\n",
              "    box-shadow: 0 1px 2px rgba(60, 64, 67, 0.3), 0 1px 3px 1px rgba(60, 64, 67, 0.15);\n",
              "    fill: var(--button-hover-fill-color);\n",
              "  }\n",
              "\n",
              "  .colab-df-quickchart-complete:disabled,\n",
              "  .colab-df-quickchart-complete:disabled:hover {\n",
              "    background-color: var(--disabled-bg-color);\n",
              "    fill: var(--disabled-fill-color);\n",
              "    box-shadow: none;\n",
              "  }\n",
              "\n",
              "  .colab-df-spinner {\n",
              "    border: 2px solid var(--fill-color);\n",
              "    border-color: transparent;\n",
              "    border-bottom-color: var(--fill-color);\n",
              "    animation:\n",
              "      spin 1s steps(1) infinite;\n",
              "  }\n",
              "\n",
              "  @keyframes spin {\n",
              "    0% {\n",
              "      border-color: transparent;\n",
              "      border-bottom-color: var(--fill-color);\n",
              "      border-left-color: var(--fill-color);\n",
              "    }\n",
              "    20% {\n",
              "      border-color: transparent;\n",
              "      border-left-color: var(--fill-color);\n",
              "      border-top-color: var(--fill-color);\n",
              "    }\n",
              "    30% {\n",
              "      border-color: transparent;\n",
              "      border-left-color: var(--fill-color);\n",
              "      border-top-color: var(--fill-color);\n",
              "      border-right-color: var(--fill-color);\n",
              "    }\n",
              "    40% {\n",
              "      border-color: transparent;\n",
              "      border-right-color: var(--fill-color);\n",
              "      border-top-color: var(--fill-color);\n",
              "    }\n",
              "    60% {\n",
              "      border-color: transparent;\n",
              "      border-right-color: var(--fill-color);\n",
              "    }\n",
              "    80% {\n",
              "      border-color: transparent;\n",
              "      border-right-color: var(--fill-color);\n",
              "      border-bottom-color: var(--fill-color);\n",
              "    }\n",
              "    90% {\n",
              "      border-color: transparent;\n",
              "      border-bottom-color: var(--fill-color);\n",
              "    }\n",
              "  }\n",
              "</style>\n",
              "\n",
              "  <script>\n",
              "    async function quickchart(key) {\n",
              "      const quickchartButtonEl =\n",
              "        document.querySelector('#' + key + ' button');\n",
              "      quickchartButtonEl.disabled = true;  // To prevent multiple clicks.\n",
              "      quickchartButtonEl.classList.add('colab-df-spinner');\n",
              "      try {\n",
              "        const charts = await google.colab.kernel.invokeFunction(\n",
              "            'suggestCharts', [key], {});\n",
              "      } catch (error) {\n",
              "        console.error('Error during call to suggestCharts:', error);\n",
              "      }\n",
              "      quickchartButtonEl.classList.remove('colab-df-spinner');\n",
              "      quickchartButtonEl.classList.add('colab-df-quickchart-complete');\n",
              "    }\n",
              "    (() => {\n",
              "      let quickchartButtonEl =\n",
              "        document.querySelector('#df-1d7b9d2f-6043-4472-9818-4076dbb1e60e button');\n",
              "      quickchartButtonEl.style.display =\n",
              "        google.colab.kernel.accessAllowed ? 'block' : 'none';\n",
              "    })();\n",
              "  </script>\n",
              "</div>\n",
              "    </div>\n",
              "  </div>\n"
            ]
          },
          "metadata": {},
          "execution_count": 23
        }
      ],
      "source": [
        "\n",
        "# Create a binary indicator column\n",
        "raw_target_data_drop2['Remodeled'] = pd.notna(raw_target_data['LocationMilestones.LastRemodelDate']).astype(int)\n",
        "\n",
        "#check new column\n",
        "raw_target_data_drop2[['LocationMilestones.LastRemodelDate','Remodeled']]\n"
      ]
    },
    {
      "cell_type": "markdown",
      "metadata": {
        "id": "LUUPf-hqEzPP"
      },
      "source": [
        "We can now see the Remodeled column ther 0's where there are NaNs and 1's where there are dates.\n",
        "\n"
      ]
    },
    {
      "cell_type": "markdown",
      "metadata": {
        "id": "AN8y1xmm_OlI"
      },
      "source": [
        "Let's convert the open date and last remodeled date column to pandas datetime in order to be able to use it for analysis later."
      ]
    },
    {
      "cell_type": "code",
      "execution_count": 24,
      "metadata": {
        "id": "8kiJ5wUm_p2M"
      },
      "outputs": [],
      "source": [
        "# Convert the columns to datetime format\n",
        "raw_target_data_drop2['LocationMilestones.OpenDate'] = pd.to_datetime(raw_target_data_drop2['LocationMilestones.OpenDate'])\n",
        "raw_target_data_drop2['LocationMilestones.LastRemodelDate'] = pd.to_datetime(raw_target_data_drop2['LocationMilestones.LastRemodelDate'])\n"
      ]
    },
    {
      "cell_type": "code",
      "execution_count": 25,
      "metadata": {
        "colab": {
          "base_uri": "https://localhost:8080/",
          "height": 424
        },
        "id": "XKvcldpi_2qD",
        "outputId": "eab20e17-b0eb-4ea0-9d02-269cdea8e9b9"
      },
      "outputs": [
        {
          "output_type": "execute_result",
          "data": {
            "text/plain": [
              "     LocationMilestones.OpenDate LocationMilestones.LastRemodelDate\n",
              "0            2006-07-19 12:00:00                                NaT\n",
              "1            2005-07-20 12:00:00                                NaT\n",
              "2            1997-07-23 12:00:00                                NaT\n",
              "3            1999-10-06 12:00:00                2013-06-27 12:00:00\n",
              "4            1999-03-03 12:00:00                2004-10-17 12:00:00\n",
              "...                          ...                                ...\n",
              "1824         2007-07-25 12:00:00                                NaT\n",
              "1825         2008-07-23 12:00:00                2013-06-27 12:00:00\n",
              "1826         2009-03-04 12:00:00                2009-03-04 12:00:00\n",
              "1827         2009-10-07 12:00:00                                NaT\n",
              "1828         2007-10-10 12:00:00                2007-10-10 12:00:00\n",
              "\n",
              "[1829 rows x 2 columns]"
            ],
            "text/html": [
              "\n",
              "  <div id=\"df-3ec24448-526d-4e4f-85c5-097956b0c4d9\" class=\"colab-df-container\">\n",
              "    <div>\n",
              "<style scoped>\n",
              "    .dataframe tbody tr th:only-of-type {\n",
              "        vertical-align: middle;\n",
              "    }\n",
              "\n",
              "    .dataframe tbody tr th {\n",
              "        vertical-align: top;\n",
              "    }\n",
              "\n",
              "    .dataframe thead th {\n",
              "        text-align: right;\n",
              "    }\n",
              "</style>\n",
              "<table border=\"1\" class=\"dataframe\">\n",
              "  <thead>\n",
              "    <tr style=\"text-align: right;\">\n",
              "      <th></th>\n",
              "      <th>LocationMilestones.OpenDate</th>\n",
              "      <th>LocationMilestones.LastRemodelDate</th>\n",
              "    </tr>\n",
              "  </thead>\n",
              "  <tbody>\n",
              "    <tr>\n",
              "      <th>0</th>\n",
              "      <td>2006-07-19 12:00:00</td>\n",
              "      <td>NaT</td>\n",
              "    </tr>\n",
              "    <tr>\n",
              "      <th>1</th>\n",
              "      <td>2005-07-20 12:00:00</td>\n",
              "      <td>NaT</td>\n",
              "    </tr>\n",
              "    <tr>\n",
              "      <th>2</th>\n",
              "      <td>1997-07-23 12:00:00</td>\n",
              "      <td>NaT</td>\n",
              "    </tr>\n",
              "    <tr>\n",
              "      <th>3</th>\n",
              "      <td>1999-10-06 12:00:00</td>\n",
              "      <td>2013-06-27 12:00:00</td>\n",
              "    </tr>\n",
              "    <tr>\n",
              "      <th>4</th>\n",
              "      <td>1999-03-03 12:00:00</td>\n",
              "      <td>2004-10-17 12:00:00</td>\n",
              "    </tr>\n",
              "    <tr>\n",
              "      <th>...</th>\n",
              "      <td>...</td>\n",
              "      <td>...</td>\n",
              "    </tr>\n",
              "    <tr>\n",
              "      <th>1824</th>\n",
              "      <td>2007-07-25 12:00:00</td>\n",
              "      <td>NaT</td>\n",
              "    </tr>\n",
              "    <tr>\n",
              "      <th>1825</th>\n",
              "      <td>2008-07-23 12:00:00</td>\n",
              "      <td>2013-06-27 12:00:00</td>\n",
              "    </tr>\n",
              "    <tr>\n",
              "      <th>1826</th>\n",
              "      <td>2009-03-04 12:00:00</td>\n",
              "      <td>2009-03-04 12:00:00</td>\n",
              "    </tr>\n",
              "    <tr>\n",
              "      <th>1827</th>\n",
              "      <td>2009-10-07 12:00:00</td>\n",
              "      <td>NaT</td>\n",
              "    </tr>\n",
              "    <tr>\n",
              "      <th>1828</th>\n",
              "      <td>2007-10-10 12:00:00</td>\n",
              "      <td>2007-10-10 12:00:00</td>\n",
              "    </tr>\n",
              "  </tbody>\n",
              "</table>\n",
              "<p>1829 rows × 2 columns</p>\n",
              "</div>\n",
              "    <div class=\"colab-df-buttons\">\n",
              "\n",
              "  <div class=\"colab-df-container\">\n",
              "    <button class=\"colab-df-convert\" onclick=\"convertToInteractive('df-3ec24448-526d-4e4f-85c5-097956b0c4d9')\"\n",
              "            title=\"Convert this dataframe to an interactive table.\"\n",
              "            style=\"display:none;\">\n",
              "\n",
              "  <svg xmlns=\"http://www.w3.org/2000/svg\" height=\"24px\" viewBox=\"0 -960 960 960\">\n",
              "    <path d=\"M120-120v-720h720v720H120Zm60-500h600v-160H180v160Zm220 220h160v-160H400v160Zm0 220h160v-160H400v160ZM180-400h160v-160H180v160Zm440 0h160v-160H620v160ZM180-180h160v-160H180v160Zm440 0h160v-160H620v160Z\"/>\n",
              "  </svg>\n",
              "    </button>\n",
              "\n",
              "  <style>\n",
              "    .colab-df-container {\n",
              "      display:flex;\n",
              "      gap: 12px;\n",
              "    }\n",
              "\n",
              "    .colab-df-convert {\n",
              "      background-color: #E8F0FE;\n",
              "      border: none;\n",
              "      border-radius: 50%;\n",
              "      cursor: pointer;\n",
              "      display: none;\n",
              "      fill: #1967D2;\n",
              "      height: 32px;\n",
              "      padding: 0 0 0 0;\n",
              "      width: 32px;\n",
              "    }\n",
              "\n",
              "    .colab-df-convert:hover {\n",
              "      background-color: #E2EBFA;\n",
              "      box-shadow: 0px 1px 2px rgba(60, 64, 67, 0.3), 0px 1px 3px 1px rgba(60, 64, 67, 0.15);\n",
              "      fill: #174EA6;\n",
              "    }\n",
              "\n",
              "    .colab-df-buttons div {\n",
              "      margin-bottom: 4px;\n",
              "    }\n",
              "\n",
              "    [theme=dark] .colab-df-convert {\n",
              "      background-color: #3B4455;\n",
              "      fill: #D2E3FC;\n",
              "    }\n",
              "\n",
              "    [theme=dark] .colab-df-convert:hover {\n",
              "      background-color: #434B5C;\n",
              "      box-shadow: 0px 1px 3px 1px rgba(0, 0, 0, 0.15);\n",
              "      filter: drop-shadow(0px 1px 2px rgba(0, 0, 0, 0.3));\n",
              "      fill: #FFFFFF;\n",
              "    }\n",
              "  </style>\n",
              "\n",
              "    <script>\n",
              "      const buttonEl =\n",
              "        document.querySelector('#df-3ec24448-526d-4e4f-85c5-097956b0c4d9 button.colab-df-convert');\n",
              "      buttonEl.style.display =\n",
              "        google.colab.kernel.accessAllowed ? 'block' : 'none';\n",
              "\n",
              "      async function convertToInteractive(key) {\n",
              "        const element = document.querySelector('#df-3ec24448-526d-4e4f-85c5-097956b0c4d9');\n",
              "        const dataTable =\n",
              "          await google.colab.kernel.invokeFunction('convertToInteractive',\n",
              "                                                    [key], {});\n",
              "        if (!dataTable) return;\n",
              "\n",
              "        const docLinkHtml = 'Like what you see? Visit the ' +\n",
              "          '<a target=\"_blank\" href=https://colab.research.google.com/notebooks/data_table.ipynb>data table notebook</a>'\n",
              "          + ' to learn more about interactive tables.';\n",
              "        element.innerHTML = '';\n",
              "        dataTable['output_type'] = 'display_data';\n",
              "        await google.colab.output.renderOutput(dataTable, element);\n",
              "        const docLink = document.createElement('div');\n",
              "        docLink.innerHTML = docLinkHtml;\n",
              "        element.appendChild(docLink);\n",
              "      }\n",
              "    </script>\n",
              "  </div>\n",
              "\n",
              "\n",
              "<div id=\"df-b223a2ec-daac-4d5d-b0a7-46d9a41733b1\">\n",
              "  <button class=\"colab-df-quickchart\" onclick=\"quickchart('df-b223a2ec-daac-4d5d-b0a7-46d9a41733b1')\"\n",
              "            title=\"Suggest charts.\"\n",
              "            style=\"display:none;\">\n",
              "\n",
              "<svg xmlns=\"http://www.w3.org/2000/svg\" height=\"24px\"viewBox=\"0 0 24 24\"\n",
              "     width=\"24px\">\n",
              "    <g>\n",
              "        <path d=\"M19 3H5c-1.1 0-2 .9-2 2v14c0 1.1.9 2 2 2h14c1.1 0 2-.9 2-2V5c0-1.1-.9-2-2-2zM9 17H7v-7h2v7zm4 0h-2V7h2v10zm4 0h-2v-4h2v4z\"/>\n",
              "    </g>\n",
              "</svg>\n",
              "  </button>\n",
              "\n",
              "<style>\n",
              "  .colab-df-quickchart {\n",
              "      --bg-color: #E8F0FE;\n",
              "      --fill-color: #1967D2;\n",
              "      --hover-bg-color: #E2EBFA;\n",
              "      --hover-fill-color: #174EA6;\n",
              "      --disabled-fill-color: #AAA;\n",
              "      --disabled-bg-color: #DDD;\n",
              "  }\n",
              "\n",
              "  [theme=dark] .colab-df-quickchart {\n",
              "      --bg-color: #3B4455;\n",
              "      --fill-color: #D2E3FC;\n",
              "      --hover-bg-color: #434B5C;\n",
              "      --hover-fill-color: #FFFFFF;\n",
              "      --disabled-bg-color: #3B4455;\n",
              "      --disabled-fill-color: #666;\n",
              "  }\n",
              "\n",
              "  .colab-df-quickchart {\n",
              "    background-color: var(--bg-color);\n",
              "    border: none;\n",
              "    border-radius: 50%;\n",
              "    cursor: pointer;\n",
              "    display: none;\n",
              "    fill: var(--fill-color);\n",
              "    height: 32px;\n",
              "    padding: 0;\n",
              "    width: 32px;\n",
              "  }\n",
              "\n",
              "  .colab-df-quickchart:hover {\n",
              "    background-color: var(--hover-bg-color);\n",
              "    box-shadow: 0 1px 2px rgba(60, 64, 67, 0.3), 0 1px 3px 1px rgba(60, 64, 67, 0.15);\n",
              "    fill: var(--button-hover-fill-color);\n",
              "  }\n",
              "\n",
              "  .colab-df-quickchart-complete:disabled,\n",
              "  .colab-df-quickchart-complete:disabled:hover {\n",
              "    background-color: var(--disabled-bg-color);\n",
              "    fill: var(--disabled-fill-color);\n",
              "    box-shadow: none;\n",
              "  }\n",
              "\n",
              "  .colab-df-spinner {\n",
              "    border: 2px solid var(--fill-color);\n",
              "    border-color: transparent;\n",
              "    border-bottom-color: var(--fill-color);\n",
              "    animation:\n",
              "      spin 1s steps(1) infinite;\n",
              "  }\n",
              "\n",
              "  @keyframes spin {\n",
              "    0% {\n",
              "      border-color: transparent;\n",
              "      border-bottom-color: var(--fill-color);\n",
              "      border-left-color: var(--fill-color);\n",
              "    }\n",
              "    20% {\n",
              "      border-color: transparent;\n",
              "      border-left-color: var(--fill-color);\n",
              "      border-top-color: var(--fill-color);\n",
              "    }\n",
              "    30% {\n",
              "      border-color: transparent;\n",
              "      border-left-color: var(--fill-color);\n",
              "      border-top-color: var(--fill-color);\n",
              "      border-right-color: var(--fill-color);\n",
              "    }\n",
              "    40% {\n",
              "      border-color: transparent;\n",
              "      border-right-color: var(--fill-color);\n",
              "      border-top-color: var(--fill-color);\n",
              "    }\n",
              "    60% {\n",
              "      border-color: transparent;\n",
              "      border-right-color: var(--fill-color);\n",
              "    }\n",
              "    80% {\n",
              "      border-color: transparent;\n",
              "      border-right-color: var(--fill-color);\n",
              "      border-bottom-color: var(--fill-color);\n",
              "    }\n",
              "    90% {\n",
              "      border-color: transparent;\n",
              "      border-bottom-color: var(--fill-color);\n",
              "    }\n",
              "  }\n",
              "</style>\n",
              "\n",
              "  <script>\n",
              "    async function quickchart(key) {\n",
              "      const quickchartButtonEl =\n",
              "        document.querySelector('#' + key + ' button');\n",
              "      quickchartButtonEl.disabled = true;  // To prevent multiple clicks.\n",
              "      quickchartButtonEl.classList.add('colab-df-spinner');\n",
              "      try {\n",
              "        const charts = await google.colab.kernel.invokeFunction(\n",
              "            'suggestCharts', [key], {});\n",
              "      } catch (error) {\n",
              "        console.error('Error during call to suggestCharts:', error);\n",
              "      }\n",
              "      quickchartButtonEl.classList.remove('colab-df-spinner');\n",
              "      quickchartButtonEl.classList.add('colab-df-quickchart-complete');\n",
              "    }\n",
              "    (() => {\n",
              "      let quickchartButtonEl =\n",
              "        document.querySelector('#df-b223a2ec-daac-4d5d-b0a7-46d9a41733b1 button');\n",
              "      quickchartButtonEl.style.display =\n",
              "        google.colab.kernel.accessAllowed ? 'block' : 'none';\n",
              "    })();\n",
              "  </script>\n",
              "</div>\n",
              "    </div>\n",
              "  </div>\n"
            ]
          },
          "metadata": {},
          "execution_count": 25
        }
      ],
      "source": [
        "raw_target_data_drop2[['LocationMilestones.OpenDate','LocationMilestones.LastRemodelDate']]"
      ]
    },
    {
      "cell_type": "markdown",
      "metadata": {
        "id": "ByOrm_y9_WdG"
      },
      "source": [
        "Now let's explore the Market Column"
      ]
    },
    {
      "cell_type": "code",
      "execution_count": 26,
      "metadata": {
        "colab": {
          "base_uri": "https://localhost:8080/"
        },
        "id": "zZu9VphEZuGb",
        "outputId": "39f72e4e-a1d7-4b46-9024-5d5e048cd219"
      },
      "outputs": [
        {
          "output_type": "execute_result",
          "data": {
            "text/plain": [
              "array(['ESE', 'ESF', nan, 'SFL', 'BTC', 'RG3', 'RG4', 'RG1', 'EMW', 'RG2',\n",
              "       'ENE', 'SMA', 'RBO', 'RMI', 'SMN', 'RMP', \"['GTM', 'RMP']\", 'GTM'],\n",
              "      dtype=object)"
            ]
          },
          "metadata": {},
          "execution_count": 26
        }
      ],
      "source": [
        "raw_target_data_drop2['Market'].unique()"
      ]
    },
    {
      "cell_type": "markdown",
      "metadata": {
        "id": "Fcge_uM2FTr_"
      },
      "source": [
        "I was unable to find any documentation on what this field means so I will drop it."
      ]
    },
    {
      "cell_type": "code",
      "execution_count": 27,
      "metadata": {
        "colab": {
          "base_uri": "https://localhost:8080/"
        },
        "id": "OKGHQgS6ZuGv",
        "outputId": "4b0a9ade-b532-4faf-d223-fe03a8be7042"
      },
      "outputs": [
        {
          "output_type": "execute_result",
          "data": {
            "text/plain": [
              "Index(['Address.AddressLine1', 'Address.City', 'Address.County',\n",
              "       'Address.Latitude', 'Address.Longitude', 'Address.PostalCode',\n",
              "       'Address.Subdivision', 'LocationMilestones.LastRemodelDate',\n",
              "       'LocationMilestones.OpenDate', 'Name', 'Store.StoreDistrictID',\n",
              "       'Store.StoreGroupID', 'Store.StoreRegionID', 'SubTypeDescription',\n",
              "       'TypeCode', 'AllCapability', 'Remodeled'],\n",
              "      dtype='object')"
            ]
          },
          "metadata": {},
          "execution_count": 27
        }
      ],
      "source": [
        "#drop Market column\n",
        "raw_target_data_drop3 = raw_target_data_drop2.drop('Market', axis = 1)\n",
        "\n",
        "#check for clean data\n",
        "raw_target_data_drop3.columns"
      ]
    },
    {
      "cell_type": "markdown",
      "metadata": {
        "id": "sX2DL01nF4xn"
      },
      "source": [
        "Now let's explore 'All Capability'"
      ]
    },
    {
      "cell_type": "code",
      "execution_count": 28,
      "metadata": {
        "colab": {
          "base_uri": "https://localhost:8080/"
        },
        "id": "M3vbUIp8GCze",
        "outputId": "d2d288d6-2bc8-41a9-c148-dcfdf0adfeab"
      },
      "outputs": [
        {
          "output_type": "execute_result",
          "data": {
            "text/plain": [
              "0       ['CVS pharmacy', 'Café', 'Mobile Kiosk', 'Star...\n",
              "1       ['CVS pharmacy', 'Cafe-Pizza', 'Fresh Grocery'...\n",
              "2                                                     NaN\n",
              "3       ['CVS pharmacy', 'Café', 'Fresh Grocery', 'Mob...\n",
              "4       ['CVS pharmacy', 'Café', 'Mobile Kiosk', 'Phot...\n",
              "                              ...                        \n",
              "1824    ['Bakery', 'CVS pharmacy', 'Cafe-Pizza', 'Deli...\n",
              "1825    ['Accepts WIC', 'CVS pharmacy', 'Cafe-Pizza', ...\n",
              "1826    ['CVS pharmacy', 'Cafe-Pizza', 'Fresh Grocery'...\n",
              "1827    ['CVS pharmacy', 'Cafe-Pizza', 'Drive Up', 'Fr...\n",
              "1828    ['Accepts WIC', 'Bakery', 'CVS pharmacy', 'Caf...\n",
              "Name: AllCapability, Length: 1829, dtype: object"
            ]
          },
          "metadata": {},
          "execution_count": 28
        }
      ],
      "source": [
        "raw_target_data_drop3['AllCapability']"
      ]
    },
    {
      "cell_type": "markdown",
      "metadata": {
        "id": "XqjloAJ7GOV5"
      },
      "source": [
        "We see that this field contains lists of additional features that a Target has such as a CVS, Cafe, Bakery etc. This could be useful for analysis. In order to process this I will create binary indicators for each unique value. First we need to explore what all of the unique value are"
      ]
    },
    {
      "cell_type": "code",
      "execution_count": 29,
      "metadata": {
        "id": "2Wq0DkD8IY7b"
      },
      "outputs": [],
      "source": [
        "\n",
        "\n",
        "# Replace NaN values with an empty list\n",
        "raw_target_data_drop3['AllCapability'].fillna('[]', inplace=True)\n",
        "\n",
        "# Remove unwanted characters from the string and split the values into lists\n",
        "raw_target_data_drop3['AllCapability'] = raw_target_data_drop3['AllCapability'].str.replace(\"[\\[\\]']\", '', regex=True)\n",
        "raw_target_data_drop3['AllCapability'] = raw_target_data_drop3['AllCapability'].str.split(', ')\n",
        "\n",
        "# Use get_dummies to one-hot encode the capabilities\n",
        "all_capabilities = pd.get_dummies(raw_target_data_drop3['AllCapability'].explode())\n",
        "\n",
        "# Concatenate the one-hot encoded capabilities back to the original DataFrame\n",
        "raw_target_data_drop3 = pd.concat([raw_target_data_drop3, all_capabilities], axis=1)\n",
        "\n",
        "# Drop the original 'AllCapability' column\n",
        "raw_target_data_drop3.drop('AllCapability', axis=1, inplace=True)\n"
      ]
    },
    {
      "cell_type": "code",
      "execution_count": 30,
      "metadata": {
        "colab": {
          "base_uri": "https://localhost:8080/"
        },
        "id": "fcyob-z4G50c",
        "outputId": "2c016823-9d85-4996-a688-258e7e756726"
      },
      "outputs": [
        {
          "output_type": "execute_result",
          "data": {
            "text/plain": [
              "Index(['Address.AddressLine1', 'Address.City', 'Address.County',\n",
              "       'Address.Latitude', 'Address.Longitude', 'Address.PostalCode',\n",
              "       'Address.Subdivision', 'LocationMilestones.LastRemodelDate',\n",
              "       'LocationMilestones.OpenDate', 'Name', 'Store.StoreDistrictID',\n",
              "       'Store.StoreGroupID', 'Store.StoreRegionID', 'SubTypeDescription',\n",
              "       'TypeCode', 'Remodeled', '', '\"DAmico & Sons Italian Kitchen\"',\n",
              "       '& Spirits Available', 'Accepts WIC', 'Bakery', 'Beauty Concierge',\n",
              "       'Beer', 'Beer Available', 'CVS pharmacy', 'Cafe-Pizza', 'Café',\n",
              "       'Chobani Cafe', 'Clinic care by Kaiser Permanente', 'Deli', 'Drive Up',\n",
              "       'Fresh Grocery', 'In-Store Apple Store', 'MinuteClinic', 'Mobile Kiosk',\n",
              "       'Optical', 'Photo Lab', 'Pizza Hut Salads and Snacks', 'Starbucks',\n",
              "       'Sun Boutique', 'Super Target', 'Which Wich Superior Sandwiches',\n",
              "       'Wine', 'Wine & Beer Available', 'Wine Available'],\n",
              "      dtype='object')"
            ]
          },
          "metadata": {},
          "execution_count": 30
        }
      ],
      "source": [
        "raw_target_data_drop3.columns"
      ]
    },
    {
      "cell_type": "markdown",
      "metadata": {
        "id": "-Tl9xeW2ImMt"
      },
      "source": [
        "We now see each Capability hot-encoded as a binary values"
      ]
    },
    {
      "cell_type": "markdown",
      "metadata": {
        "id": "NbYaq-DfICHW"
      },
      "source": [
        "## Statistical Analysis\n",
        "\n",
        "Let's explore the statistical distribution and possible correlations in this dataset. We'll start with a heat map of all numerical columns."
      ]
    },
    {
      "cell_type": "code",
      "execution_count": 31,
      "metadata": {
        "colab": {
          "base_uri": "https://localhost:8080/",
          "height": 306
        },
        "id": "yzNiHxYk-pSc",
        "outputId": "f9c894b3-3dd8-477e-bda0-9edc9a417212"
      },
      "outputs": [
        {
          "output_type": "stream",
          "name": "stderr",
          "text": [
            "<ipython-input-31-f4f80ac595bb>:13: FutureWarning: The default value of numeric_only in DataFrame.corr is deprecated. In a future version, it will default to False. Select only valid columns or specify the value of numeric_only to silence this warning.\n",
            "  correlation_matrix = raw_target_data_drop3[group].corr()\n"
          ]
        },
        {
          "output_type": "error",
          "ename": "TypeError",
          "evalue": "ignored",
          "traceback": [
            "\u001b[0;31m---------------------------------------------------------------------------\u001b[0m",
            "\u001b[0;31mTypeError\u001b[0m                                 Traceback (most recent call last)",
            "\u001b[0;32m<ipython-input-31-f4f80ac595bb>\u001b[0m in \u001b[0;36m<cell line: 12>\u001b[0;34m()\u001b[0m\n\u001b[1;32m     12\u001b[0m \u001b[0;32mfor\u001b[0m \u001b[0mindex\u001b[0m\u001b[0;34m,\u001b[0m \u001b[0mgroup\u001b[0m \u001b[0;32min\u001b[0m \u001b[0menumerate\u001b[0m\u001b[0;34m(\u001b[0m\u001b[0mgroups\u001b[0m\u001b[0;34m,\u001b[0m \u001b[0;36m1\u001b[0m\u001b[0;34m)\u001b[0m\u001b[0;34m:\u001b[0m\u001b[0;34m\u001b[0m\u001b[0;34m\u001b[0m\u001b[0m\n\u001b[1;32m     13\u001b[0m     \u001b[0mcorrelation_matrix\u001b[0m \u001b[0;34m=\u001b[0m \u001b[0mraw_target_data_drop3\u001b[0m\u001b[0;34m[\u001b[0m\u001b[0mgroup\u001b[0m\u001b[0;34m]\u001b[0m\u001b[0;34m.\u001b[0m\u001b[0mcorr\u001b[0m\u001b[0;34m(\u001b[0m\u001b[0;34m)\u001b[0m\u001b[0;34m\u001b[0m\u001b[0;34m\u001b[0m\u001b[0m\n\u001b[0;32m---> 14\u001b[0;31m     \u001b[0mplt\u001b[0m\u001b[0;34m.\u001b[0m\u001b[0mfigure\u001b[0m\u001b[0;34m(\u001b[0m\u001b[0mfigsize\u001b[0m\u001b[0;34m=\u001b[0m\u001b[0;34m(\u001b[0m\u001b[0;36m12\u001b[0m\u001b[0;34m,\u001b[0m \u001b[0;36m10\u001b[0m\u001b[0;34m)\u001b[0m\u001b[0;34m)\u001b[0m\u001b[0;34m\u001b[0m\u001b[0;34m\u001b[0m\u001b[0m\n\u001b[0m\u001b[1;32m     15\u001b[0m     \u001b[0msns\u001b[0m\u001b[0;34m.\u001b[0m\u001b[0mheatmap\u001b[0m\u001b[0;34m(\u001b[0m\u001b[0mcorrelation_matrix\u001b[0m\u001b[0;34m,\u001b[0m \u001b[0mannot\u001b[0m\u001b[0;34m=\u001b[0m\u001b[0;32mTrue\u001b[0m\u001b[0;34m,\u001b[0m \u001b[0mcmap\u001b[0m\u001b[0;34m=\u001b[0m\u001b[0;34m'coolwarm'\u001b[0m\u001b[0;34m,\u001b[0m \u001b[0mvmin\u001b[0m\u001b[0;34m=\u001b[0m\u001b[0;34m-\u001b[0m\u001b[0;36m1\u001b[0m\u001b[0;34m,\u001b[0m \u001b[0mvmax\u001b[0m\u001b[0;34m=\u001b[0m\u001b[0;36m1\u001b[0m\u001b[0;34m)\u001b[0m\u001b[0;34m\u001b[0m\u001b[0;34m\u001b[0m\u001b[0m\n\u001b[1;32m     16\u001b[0m     \u001b[0mplt\u001b[0m\u001b[0;34m.\u001b[0m\u001b[0mtitle\u001b[0m\u001b[0;34m(\u001b[0m\u001b[0;34mf\"Correlation Matrix for Group {index}\"\u001b[0m\u001b[0;34m)\u001b[0m\u001b[0;34m\u001b[0m\u001b[0;34m\u001b[0m\u001b[0m\n",
            "\u001b[0;31mTypeError\u001b[0m: 'module' object is not callable"
          ]
        }
      ],
      "source": [
        "import matplotlib as plt\n",
        "# Define column groups\n",
        "groups = [\n",
        "    ['Address.Latitude', 'Address.Longitude', 'Remodeled', 'Address.AddressLine1', 'Address.City', 'Address.County', 'Address.PostalCode'],\n",
        "    ['Address.Latitude', 'Address.Longitude', 'Remodeled', 'Name'],\n",
        "    ['Address.Latitude', 'Address.Longitude', 'Remodeled', 'Bakery', 'Beer', 'Cafe-Pizza', 'Café'],\n",
        "    ['Address.Latitude', 'Address.Longitude', 'Remodeled', 'CVS pharmacy', 'MinuteClinic', 'Optical', 'Photo Lab'],\n",
        "    ['Address.Latitude', 'Address.Longitude', 'Remodeled', 'Drive Up', 'Fresh Grocery', 'Starbucks']\n",
        "]\n",
        "\n",
        "#Loop through each group to compute and display correlation matrix\n",
        "for index, group in enumerate(groups, 1):\n",
        "    correlation_matrix = raw_target_data_drop3[group].corr()\n",
        "    plt.figure(figsize=(12, 10))\n",
        "    sns.heatmap(correlation_matrix, annot=True, cmap='coolwarm', vmin=-1, vmax=1)\n",
        "    plt.title(f\"Correlation Matrix for Group {index}\")\n",
        "    plt.show()\n"
      ]
    },
    {
      "cell_type": "markdown",
      "metadata": {
        "id": "pUkCdMdQg6S7"
      },
      "source": [
        "Upon examining the correlation matrix, we observe predominantly weak linear relationships between variables, hinting that they might largely function independently. This independence mitigates concerns about multicollinearity. However, these low correlations don't necessarily indicate an absence of relationships; non-linear interactions might be present but not reflected in the current metrics. While the initial impression suggests some variables might have lesser relevance due to their low correlation with the target, I will approach feature selection with a holistic view by exploring other types of relationships"
      ]
    },
    {
      "cell_type": "markdown",
      "metadata": {
        "id": "wuG9gqHb42ao"
      },
      "source": [
        "Let's now plot histograms for each of the numeric columns"
      ]
    },
    {
      "cell_type": "code",
      "execution_count": null,
      "metadata": {
        "id": "YVuDTQcYh8o7"
      },
      "outputs": [],
      "source": [
        "numeric_raw = raw_target_data_drop3.select_dtypes(include=['number'])\n",
        "\n",
        "for col in numeric_raw.columns:\n",
        "  numeric_raw.loc[:,col].plot(kind='hist')\n",
        "  plt.title(col)\n",
        "  plt.show()"
      ]
    },
    {
      "cell_type": "markdown",
      "source": [
        "Analysis of Histograms"
      ],
      "metadata": {
        "id": "aGfLrfTCRIJ8"
      }
    },
    {
      "cell_type": "markdown",
      "source": [
        "For my analysis of the Target dataset, I've been examining the relationships between the various columns to gain a deeper understanding. One of the techniques I considered using is Pearson's R, which measures how two variables might be related.\n",
        "\n",
        "To effectively apply Pearson's R, it's crucial to distinguish between two types of variables: an independent one (which might influence outcomes) and a dependent one (which we observe for changes).\n",
        "\n",
        "Currently, within the Target dataset, I haven't pinpointed a definitive independent variable. This means I'm still unsure about which factor could be influencing the others. Without this clarity, using Pearson's R could lead to conclusions that aren't well-founded.\n",
        "\n",
        "Given this, I've decided to hold off on employing Pearson's R in my analysis. I believe it's essential to ensure that when I do use it, I can do so with confidence and precision.\n",
        "\n"
      ],
      "metadata": {
        "id": "7N97S1TTGc7l"
      }
    },
    {
      "cell_type": "markdown",
      "source": [
        "## Debt to income ratio data\n",
        "\n",
        "This dataset most likely needs to be scraped in order to get it into the correct format that I would need. Currently when downloading the data I receive it in the format below:"
      ],
      "metadata": {
        "id": "LwEC_-VXGnr6"
      }
    },
    {
      "cell_type": "code",
      "source": [
        "raw_debt_data = pd.read_csv('household-debt-by-county.csv')\n",
        "raw_debt_data.head()"
      ],
      "metadata": {
        "colab": {
          "base_uri": "https://localhost:8080/",
          "height": 206
        },
        "id": "KciOBbFUGl6x",
        "outputId": "f0244915-dd97-4f9c-d214-9762cf20fc2c"
      },
      "execution_count": 33,
      "outputs": [
        {
          "output_type": "execute_result",
          "data": {
            "text/plain": [
              "   year  qtr  area_fips   low  high\n",
              "0  1999    1       1001  1.82  2.15\n",
              "1  1999    1       1003  1.82  2.15\n",
              "2  1999    1       1005  0.00  0.78\n",
              "3  1999    1       1007  2.61  3.43\n",
              "4  1999    1       1009  2.15  2.61"
            ],
            "text/html": [
              "\n",
              "  <div id=\"df-c936e555-6e61-4021-9338-13d440244e64\" class=\"colab-df-container\">\n",
              "    <div>\n",
              "<style scoped>\n",
              "    .dataframe tbody tr th:only-of-type {\n",
              "        vertical-align: middle;\n",
              "    }\n",
              "\n",
              "    .dataframe tbody tr th {\n",
              "        vertical-align: top;\n",
              "    }\n",
              "\n",
              "    .dataframe thead th {\n",
              "        text-align: right;\n",
              "    }\n",
              "</style>\n",
              "<table border=\"1\" class=\"dataframe\">\n",
              "  <thead>\n",
              "    <tr style=\"text-align: right;\">\n",
              "      <th></th>\n",
              "      <th>year</th>\n",
              "      <th>qtr</th>\n",
              "      <th>area_fips</th>\n",
              "      <th>low</th>\n",
              "      <th>high</th>\n",
              "    </tr>\n",
              "  </thead>\n",
              "  <tbody>\n",
              "    <tr>\n",
              "      <th>0</th>\n",
              "      <td>1999</td>\n",
              "      <td>1</td>\n",
              "      <td>1001</td>\n",
              "      <td>1.82</td>\n",
              "      <td>2.15</td>\n",
              "    </tr>\n",
              "    <tr>\n",
              "      <th>1</th>\n",
              "      <td>1999</td>\n",
              "      <td>1</td>\n",
              "      <td>1003</td>\n",
              "      <td>1.82</td>\n",
              "      <td>2.15</td>\n",
              "    </tr>\n",
              "    <tr>\n",
              "      <th>2</th>\n",
              "      <td>1999</td>\n",
              "      <td>1</td>\n",
              "      <td>1005</td>\n",
              "      <td>0.00</td>\n",
              "      <td>0.78</td>\n",
              "    </tr>\n",
              "    <tr>\n",
              "      <th>3</th>\n",
              "      <td>1999</td>\n",
              "      <td>1</td>\n",
              "      <td>1007</td>\n",
              "      <td>2.61</td>\n",
              "      <td>3.43</td>\n",
              "    </tr>\n",
              "    <tr>\n",
              "      <th>4</th>\n",
              "      <td>1999</td>\n",
              "      <td>1</td>\n",
              "      <td>1009</td>\n",
              "      <td>2.15</td>\n",
              "      <td>2.61</td>\n",
              "    </tr>\n",
              "  </tbody>\n",
              "</table>\n",
              "</div>\n",
              "    <div class=\"colab-df-buttons\">\n",
              "\n",
              "  <div class=\"colab-df-container\">\n",
              "    <button class=\"colab-df-convert\" onclick=\"convertToInteractive('df-c936e555-6e61-4021-9338-13d440244e64')\"\n",
              "            title=\"Convert this dataframe to an interactive table.\"\n",
              "            style=\"display:none;\">\n",
              "\n",
              "  <svg xmlns=\"http://www.w3.org/2000/svg\" height=\"24px\" viewBox=\"0 -960 960 960\">\n",
              "    <path d=\"M120-120v-720h720v720H120Zm60-500h600v-160H180v160Zm220 220h160v-160H400v160Zm0 220h160v-160H400v160ZM180-400h160v-160H180v160Zm440 0h160v-160H620v160ZM180-180h160v-160H180v160Zm440 0h160v-160H620v160Z\"/>\n",
              "  </svg>\n",
              "    </button>\n",
              "\n",
              "  <style>\n",
              "    .colab-df-container {\n",
              "      display:flex;\n",
              "      gap: 12px;\n",
              "    }\n",
              "\n",
              "    .colab-df-convert {\n",
              "      background-color: #E8F0FE;\n",
              "      border: none;\n",
              "      border-radius: 50%;\n",
              "      cursor: pointer;\n",
              "      display: none;\n",
              "      fill: #1967D2;\n",
              "      height: 32px;\n",
              "      padding: 0 0 0 0;\n",
              "      width: 32px;\n",
              "    }\n",
              "\n",
              "    .colab-df-convert:hover {\n",
              "      background-color: #E2EBFA;\n",
              "      box-shadow: 0px 1px 2px rgba(60, 64, 67, 0.3), 0px 1px 3px 1px rgba(60, 64, 67, 0.15);\n",
              "      fill: #174EA6;\n",
              "    }\n",
              "\n",
              "    .colab-df-buttons div {\n",
              "      margin-bottom: 4px;\n",
              "    }\n",
              "\n",
              "    [theme=dark] .colab-df-convert {\n",
              "      background-color: #3B4455;\n",
              "      fill: #D2E3FC;\n",
              "    }\n",
              "\n",
              "    [theme=dark] .colab-df-convert:hover {\n",
              "      background-color: #434B5C;\n",
              "      box-shadow: 0px 1px 3px 1px rgba(0, 0, 0, 0.15);\n",
              "      filter: drop-shadow(0px 1px 2px rgba(0, 0, 0, 0.3));\n",
              "      fill: #FFFFFF;\n",
              "    }\n",
              "  </style>\n",
              "\n",
              "    <script>\n",
              "      const buttonEl =\n",
              "        document.querySelector('#df-c936e555-6e61-4021-9338-13d440244e64 button.colab-df-convert');\n",
              "      buttonEl.style.display =\n",
              "        google.colab.kernel.accessAllowed ? 'block' : 'none';\n",
              "\n",
              "      async function convertToInteractive(key) {\n",
              "        const element = document.querySelector('#df-c936e555-6e61-4021-9338-13d440244e64');\n",
              "        const dataTable =\n",
              "          await google.colab.kernel.invokeFunction('convertToInteractive',\n",
              "                                                    [key], {});\n",
              "        if (!dataTable) return;\n",
              "\n",
              "        const docLinkHtml = 'Like what you see? Visit the ' +\n",
              "          '<a target=\"_blank\" href=https://colab.research.google.com/notebooks/data_table.ipynb>data table notebook</a>'\n",
              "          + ' to learn more about interactive tables.';\n",
              "        element.innerHTML = '';\n",
              "        dataTable['output_type'] = 'display_data';\n",
              "        await google.colab.output.renderOutput(dataTable, element);\n",
              "        const docLink = document.createElement('div');\n",
              "        docLink.innerHTML = docLinkHtml;\n",
              "        element.appendChild(docLink);\n",
              "      }\n",
              "    </script>\n",
              "  </div>\n",
              "\n",
              "\n",
              "<div id=\"df-eb0226ff-76b9-4494-a086-3d7a4199a918\">\n",
              "  <button class=\"colab-df-quickchart\" onclick=\"quickchart('df-eb0226ff-76b9-4494-a086-3d7a4199a918')\"\n",
              "            title=\"Suggest charts.\"\n",
              "            style=\"display:none;\">\n",
              "\n",
              "<svg xmlns=\"http://www.w3.org/2000/svg\" height=\"24px\"viewBox=\"0 0 24 24\"\n",
              "     width=\"24px\">\n",
              "    <g>\n",
              "        <path d=\"M19 3H5c-1.1 0-2 .9-2 2v14c0 1.1.9 2 2 2h14c1.1 0 2-.9 2-2V5c0-1.1-.9-2-2-2zM9 17H7v-7h2v7zm4 0h-2V7h2v10zm4 0h-2v-4h2v4z\"/>\n",
              "    </g>\n",
              "</svg>\n",
              "  </button>\n",
              "\n",
              "<style>\n",
              "  .colab-df-quickchart {\n",
              "      --bg-color: #E8F0FE;\n",
              "      --fill-color: #1967D2;\n",
              "      --hover-bg-color: #E2EBFA;\n",
              "      --hover-fill-color: #174EA6;\n",
              "      --disabled-fill-color: #AAA;\n",
              "      --disabled-bg-color: #DDD;\n",
              "  }\n",
              "\n",
              "  [theme=dark] .colab-df-quickchart {\n",
              "      --bg-color: #3B4455;\n",
              "      --fill-color: #D2E3FC;\n",
              "      --hover-bg-color: #434B5C;\n",
              "      --hover-fill-color: #FFFFFF;\n",
              "      --disabled-bg-color: #3B4455;\n",
              "      --disabled-fill-color: #666;\n",
              "  }\n",
              "\n",
              "  .colab-df-quickchart {\n",
              "    background-color: var(--bg-color);\n",
              "    border: none;\n",
              "    border-radius: 50%;\n",
              "    cursor: pointer;\n",
              "    display: none;\n",
              "    fill: var(--fill-color);\n",
              "    height: 32px;\n",
              "    padding: 0;\n",
              "    width: 32px;\n",
              "  }\n",
              "\n",
              "  .colab-df-quickchart:hover {\n",
              "    background-color: var(--hover-bg-color);\n",
              "    box-shadow: 0 1px 2px rgba(60, 64, 67, 0.3), 0 1px 3px 1px rgba(60, 64, 67, 0.15);\n",
              "    fill: var(--button-hover-fill-color);\n",
              "  }\n",
              "\n",
              "  .colab-df-quickchart-complete:disabled,\n",
              "  .colab-df-quickchart-complete:disabled:hover {\n",
              "    background-color: var(--disabled-bg-color);\n",
              "    fill: var(--disabled-fill-color);\n",
              "    box-shadow: none;\n",
              "  }\n",
              "\n",
              "  .colab-df-spinner {\n",
              "    border: 2px solid var(--fill-color);\n",
              "    border-color: transparent;\n",
              "    border-bottom-color: var(--fill-color);\n",
              "    animation:\n",
              "      spin 1s steps(1) infinite;\n",
              "  }\n",
              "\n",
              "  @keyframes spin {\n",
              "    0% {\n",
              "      border-color: transparent;\n",
              "      border-bottom-color: var(--fill-color);\n",
              "      border-left-color: var(--fill-color);\n",
              "    }\n",
              "    20% {\n",
              "      border-color: transparent;\n",
              "      border-left-color: var(--fill-color);\n",
              "      border-top-color: var(--fill-color);\n",
              "    }\n",
              "    30% {\n",
              "      border-color: transparent;\n",
              "      border-left-color: var(--fill-color);\n",
              "      border-top-color: var(--fill-color);\n",
              "      border-right-color: var(--fill-color);\n",
              "    }\n",
              "    40% {\n",
              "      border-color: transparent;\n",
              "      border-right-color: var(--fill-color);\n",
              "      border-top-color: var(--fill-color);\n",
              "    }\n",
              "    60% {\n",
              "      border-color: transparent;\n",
              "      border-right-color: var(--fill-color);\n",
              "    }\n",
              "    80% {\n",
              "      border-color: transparent;\n",
              "      border-right-color: var(--fill-color);\n",
              "      border-bottom-color: var(--fill-color);\n",
              "    }\n",
              "    90% {\n",
              "      border-color: transparent;\n",
              "      border-bottom-color: var(--fill-color);\n",
              "    }\n",
              "  }\n",
              "</style>\n",
              "\n",
              "  <script>\n",
              "    async function quickchart(key) {\n",
              "      const quickchartButtonEl =\n",
              "        document.querySelector('#' + key + ' button');\n",
              "      quickchartButtonEl.disabled = true;  // To prevent multiple clicks.\n",
              "      quickchartButtonEl.classList.add('colab-df-spinner');\n",
              "      try {\n",
              "        const charts = await google.colab.kernel.invokeFunction(\n",
              "            'suggestCharts', [key], {});\n",
              "      } catch (error) {\n",
              "        console.error('Error during call to suggestCharts:', error);\n",
              "      }\n",
              "      quickchartButtonEl.classList.remove('colab-df-spinner');\n",
              "      quickchartButtonEl.classList.add('colab-df-quickchart-complete');\n",
              "    }\n",
              "    (() => {\n",
              "      let quickchartButtonEl =\n",
              "        document.querySelector('#df-eb0226ff-76b9-4494-a086-3d7a4199a918 button');\n",
              "      quickchartButtonEl.style.display =\n",
              "        google.colab.kernel.accessAllowed ? 'block' : 'none';\n",
              "    })();\n",
              "  </script>\n",
              "</div>\n",
              "    </div>\n",
              "  </div>\n"
            ]
          },
          "metadata": {},
          "execution_count": 33
        }
      ]
    },
    {
      "cell_type": "markdown",
      "source": [
        "This dataset provides a snapshot of a specific economic metric across various counties for the first quarter of 1999. Each entry corresponds to a county, identified by its Federal Information Processing Standards (FIPS) code, such as 1001 for Autauga, Alabama. The \"low\" and \"high\" columns present a range for the metric in question, offering insights into the economic variance within each county during this period.\n",
        "\n",
        "\n",
        "To make better use of this data, I'll need to match the unique code (FIPS) with the actual county names. The website has the right format, but I can't download it directly. So, I'll be using webscraping to get this data. The data and format can be seen here- https://www.federalreserve.gov/releases/z1/dataviz/household_debt/county/table/\n",
        "\n",
        "Webscraping is my next step and that will be completed in future sprints."
      ],
      "metadata": {
        "id": "ixXhLUQOKMmR"
      }
    },
    {
      "cell_type": "markdown",
      "source": [
        "##Overall Next Steps\n",
        "\n",
        "\n",
        "The next phase of my analysis will start with data collection. I plan to use web scraping techniques to extract household debt data from federalreserve.gov. My priority is to ensure that this newly acquired data integrates seamlessly with the cleaned Target dataset I already have. Once I secure both datasets, I'll begin the integration process. Here, my goal will be to merge the Target dataset with the household debt data, making sure to address and resolve any discrepancies for consistent and accurate analysis.\n",
        "\n",
        "Following the integration, I'll venture into feature engineering. I aim to craft relevant features drawn from my initial insights. Potential features might include changes in the debt-to-income ratio over certain intervals or gauging the proximity of Target stores to their competitors.\n",
        "\n",
        "Then, I'll shift my focus to modeling and analysis. I intend to use linear and logistic regression as a starting point to grasp the baseline dynamics and pinpoint significant predictors. To tease out the more intricate patterns in the data, especially the non-linear relationships and interactions between features, I'll deploy the Random Forest algorithm. I'll also use K-means clustering to categorize similar data points and employ mapping techniques for a visual representation of data patterns.\n",
        "\n",
        "Concluding the analysis, I'll make predictions and carve out a strategy. Using my models, I aspire to predict the most promising locations for Target stores. Based on the insights from these models, I'll forge actionable strategies, such as identifying the best regions for new stores and spotlighting areas that might undergo notable financial shifts."
      ],
      "metadata": {
        "id": "QEyXEYICbYr_"
      }
    }
  ],
  "metadata": {
    "colab": {
      "provenance": []
    },
    "kernelspec": {
      "display_name": "Python 3 (ipykernel)",
      "language": "python",
      "name": "python3"
    },
    "language_info": {
      "codemirror_mode": {
        "name": "ipython",
        "version": 3
      },
      "file_extension": ".py",
      "mimetype": "text/x-python",
      "name": "python",
      "nbconvert_exporter": "python",
      "pygments_lexer": "ipython3",
      "version": "3.11.5"
    }
  },
  "nbformat": 4,
  "nbformat_minor": 0
}